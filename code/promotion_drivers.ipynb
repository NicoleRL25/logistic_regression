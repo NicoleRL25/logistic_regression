{
 "cells": [
  {
   "cell_type": "markdown",
   "metadata": {},
   "source": [
    "To - Do:\n",
    "- add tech model\n",
    "- add function to compare models\n",
    "- edit for clarity\n",
    "- add references\n",
    "\n"
   ]
  },
  {
   "cell_type": "markdown",
   "metadata": {},
   "source": [
    "## Promotion Analysis using Logistic Regression\n",
    "The purpose of this analysis is to estimate a model to determine the factors that influence an employee at a multinational corporation receiving a promotion. I will use a synthesized data set to demonstrate how to perform logistic regression and interpret the regression coefficients. These coefficients communicate the strength and direction of the relationships between the explanatory variables and the outcome variable, promotion, to explain which holds the most weight.\n",
    "\n",
    "### Assumptions of Logistic Regression\n",
    "There are six assumptions of binary logistic regression that a model must meet to ensure the validity of its results.  \n",
    "1. There are only two options for the response variable (promoted/not promoted)\n",
    "2. The observations are independent; the data can't have multiple promotions for a given employee\n",
    "3. Explanatory variables can't be highly correlated. For example, we'd probably expect top performers to have higher test scores; we'd need to check for correlation before including both.\n",
    "4. The data shouldn't have extreme outliers or influential points. Influential points are more useful when data is formatted as a crosstab than when it's ungrouped (Agresti)\n",
    "5. The relationship between continuous predictors and the logit is linear. You can check this assumption using the Box-Tidwell transformation\n",
    "6. There is a large sample size. The rule of thumb is that there's a minimum of 10 cases of the least frequent outcome. For example, if there are 50 promotions in the data, you can have five predictor variables. However, when your predictor variables are solely categorical, you can run a crosstab to see if at least 80% of your cells have an expected value of 5 or more with no values less than 1\n",
    "\n",
    "### Model Building\n",
    "I am going to be build separate models for three departments - HR, Technology, and Operations so we can isolate the key influences for promotions in each unit. An alternative is to build a Generalized Linear Mixed Model which is a form of regression used with hierarchical or nested data - like departments.\n",
    "\n",
    "### Variable Selection\n",
    "For the initial variable selection, I'll use generation, gender, region, awards won, variables related to performance. The key here is to include the factors that you think might be a factor in the promotion process at your organization.   \n",
    "\n"
   ]
  },
  {
   "cell_type": "code",
   "execution_count": 1,
   "metadata": {},
   "outputs": [],
   "source": [
    "# import data vis modules\n",
    "import log_plots as plots\n",
    "\n",
    "# import data management modules\n",
    "import pandas as pd\n",
    "pd.set_option('display.float_format', lambda x: '%.5f' % x)\n",
    "import numpy as np\n",
    "\n",
    "# import stats modules\n",
    "import statsmodels.api as sm\n",
    "import statsmodels.formula.api as smf\n",
    "import scipy.stats as stats\n",
    "from sklearn.metrics import roc_auc_score\n",
    "from sklearn import metrics\n",
    "\n",
    "# import rpy2 for r stats modules\n",
    "import rpy2\n",
    "\n"
   ]
  },
  {
   "cell_type": "code",
   "execution_count": 2,
   "metadata": {},
   "outputs": [],
   "source": [
    "# read in employee promotion dataset\n",
    "df = pd.read_csv('..\\data\\input\\employee_promotion.csv', dtype = {'employee_id':'str'})\n",
    "\n",
    "# create tenure bands based on employee length of service\n",
    "df['tenure_bands'] = df.length_of_service.apply(lambda x: '0-2' if x < 2 else '2-4' if x <4 else '4+')\n",
    "\n",
    "\n",
    "# takes log of length of service bc data is skewed\n",
    "df['log_los'] = np.log(df.length_of_service)\n",
    "\n",
    "# fill average training score with 0 for employees mising scores\n",
    "df.avg_training_score.fillna(0, inplace = True)\n",
    "\n",
    "# create generations based on employee ages\n",
    "df['age_group'] = df.age.apply(lambda x: 'gen_z' if x <= 25 \n",
    "                               else 'mill' if x <=41 \n",
    "                               else 'gen_x' if x<=57 \n",
    "                               else 'baby_boomer')\n",
    "\n",
    "\n",
    "# fill na education data\n",
    "df['education'] = df.education.fillna('no education data')\n",
    "\n",
    "# create groups for trainings\n",
    "df['trainings'] = df.no_of_trainings.apply(lambda x: '1' if x == 1 else '2 or more')\n",
    "\n",
    "# fill na for previous year rating\n",
    "df['previous_year_rating'] = df.previous_year_rating.fillna('unrated')\n",
    "\n",
    "# create talent groups of high, medium, low and unrated\n",
    "df['talent_group'] = df.previous_year_rating.apply(lambda x: 'unrated' if x == 'unrated' else 'high' if x in [4.0,5.0] \n",
    "                              else 'medium' if x == 3.0 else 'low')\n",
    "\n",
    "# create binary variable indicating high performer - someone scored in the top 2 tiers\n",
    "df['high_performer'] = df.previous_year_rating.apply(lambda x: 1 if x in [4.0,5.0] else 0)\n",
    "\n",
    "# gets size ordered list of departments\n",
    "size_order = df.department.value_counts().sort_values().index \n"
   ]
  },
  {
   "cell_type": "code",
   "execution_count": 3,
   "metadata": {},
   "outputs": [],
   "source": [
    "# get count of promotions by department\n",
    "promos_by_dept = df.pivot_table(index = 'department', columns = 'is_promoted', # creates pivot table of ees by promo and dept\n",
    "                                values = 'employee_id', aggfunc = 'count')\n",
    "\n",
    "# create contingency table\n",
    "tab_dept = sm.stats.Table(promos_by_dept)"
   ]
  },
  {
   "cell_type": "code",
   "execution_count": 4,
   "metadata": {},
   "outputs": [],
   "source": [
    "# creates new dataframe with observed promotion counts\n",
    "promos_by_dept_fitted = promos_by_dept.copy().rename(columns = {1:'observed'})\n",
    "\n",
    "# appends expected promotion counts\n",
    "promos_by_dept_fitted = pd.concat([promos_by_dept_fitted,tab_dept.fittedvalues], axis = 1).rename(columns = {1:'expected'})\n",
    "\n",
    "# limits columns to observed and expected\n",
    "promos_by_dept_fitted = promos_by_dept_fitted[['observed','expected']].copy()\n",
    "\n",
    "# reorders rows in size order\n",
    "promos_by_dept_fitted = promos_by_dept_fitted.reindex(size_order)"
   ]
  },
  {
   "attachments": {
    "image-3.png": {
     "image/png": "[encoded data removed]"
    },
    "image.png": {
     "image/png": "[encoded data removed]"
    }
   },
   "cell_type": "markdown",
   "metadata": {},
   "source": [
    "## Chi-Square Analysis of Promotions by Department\n",
    "The chi-square analysis compares the overall organization promotion rate of 9% to the promotion rate by department. The expected values for promoted employees by department would be very close to the marginal probability if there isn't an association based on department. The chi-square statistic is the sum of the difference between the observed and expected values for each cell in the contingency table. This value gets compared to the chi-square distribution to see if it's statistically significant.\n",
    "\n",
    "![image-3.png](attachment:image-3.png)\n",
    "\n",
    "```python\n",
    "# create a contigency table based on counts of employees by promotion status and department\n",
    "tab_dept = sm.stats.Table(promos_by_dept)\n",
    "\n",
    "# run the chi-square test of association \n",
    "tab_dept.test_nominal_association().pvalue\n",
    "\n",
    "# gets critical value for large contingency tables\n",
    "cells = promos_by_dept.count().sum()\n",
    "stats.norm.ppf(.05/cells/2)\n",
    "# returns -2.99\n",
    "\n",
    "```\n",
    "Since p < 0.01, the test indicates an association between promotion status and department. We can calculate the standardized values for each cell; any values greater than approximately +/-3 would be considered unusual.\n",
    "\n",
    "\n",
    "```python\n",
    "# calculates the standardized residuals for each cell\n",
    "tab_dept.standardized_resids\n",
    "```\n",
    "\n",
    "| department        |         0 |         1 |\n",
    "|:------------------|----------:|----------:|\n",
    "| Analytics         | -2.89564  |  2.89564  |\n",
    "| Finance           |  0.727811 | -0.727811 |\n",
    "| HR                |  5.21181  | -5.21181  |\n",
    "| Legal             |  3.98255  | -3.98255  |\n",
    "| Operations        | -2.13343  |  2.13343  |\n",
    "| Procurement       | -3.63993  |  3.63993  |\n",
    "| R&D               |  1.83999  | -1.83999  |\n",
    "| Sales & Marketing |  7.33903  | -7.33903  |\n",
    "| Technology        | -7.2773   |  7.2773   |\n",
    "\n",
    "\n",
    "There are fewer promotions than expected in HR, Legal, and Sales & Marketing, and more than expected in Technology and Procurement.\n",
    "\n",
    "![image.png](attachment:image.png)"
   ]
  },
  {
   "cell_type": "markdown",
   "metadata": {},
   "source": [
    "## Model for the HR Department\n",
    "\n",
    "The chi-square analysis showed that the HR department had fewer promotions than expected. I will follow the purposeful selection of explanatory variables outlined in Agresti 2017 to identify the variables that provide the best fit. The table below summarizes the models fit with age group, gender, tenure bands, awards won, high performer, and region groups as potential explanatory variables.\n",
    "\n",
    "The AIC for the null model isn't provided in the GLM results. It is calculated as -2(log-likelihood) + 2K where K is the number of parameters.\n",
    "\n",
    "```python\n",
    "# Calculate AIC for the null model\n",
    "#llnull is the log likelihood for the null model and the intercept is the only predictor\n",
    "(-2*res.llnull) + 2\n",
    "\n",
    "```\n",
    "\n",
    "|model| explanatory variables        | Deviance|  df | AIC | Models Compared| Deviance Difference |\n",
    "|:----|-----------------------------:|:-------:|----:|----:| --------------:|--------------------:|\n",
    "|null |                              | 1047    |2417 |1049 |                |                     |\n",
    "|mod| gender        | 1047|  2416 | 1051 | null| 0.06 (df = 1)|\n",
    "|mod1| age group        | 1046|  2414 | 1054 | null| 0.92 (df = 3) |\n",
    "|mod2| tenure bands       | 1045.7|  2415 | 1052 | null| 1.35 (df = 2) |\n",
    "|mod3| awards won        | 998.89|  2416 | 1003 | null| 48.14 (df = 1) |\n",
    "|mod4| high performer        | 1030.1|  2416 | 1034 | null| 16.91 (df = 1) |\n",
    "|mod5| region groups        | 1043.8|  2412 | 1056 | null| 3.24 (df = 5) |\n",
    "|mod6| awards won + high performer        | 983.57|  2415 | 990 | mod3: awards won| 15.32 (df = 1) |\n",
    "||         | |   |  | mod4: high performer| 46.55 (df = 1) |\n",
    "\n",
    "\n",
    "### Multicollinearity\n",
    "The final model indicates that high performance and winning an award are the strongest predictors of whether an employee in the HR department receives a promotion. Since both explanatory variables are categorical, we can use a chi-square test to assess whether the two variables are associated. With a p > 0.05, we fail to reject the null hypothesis that awards won and high performance are associated.\n",
    "\n",
    "```python\n",
    "# an indication of multicollinearity is if the model is significant but the individual predictors are not\n",
    "# can also use a chi-square test to check if there's association between awards_won and talent group\n",
    "sm.stats.Table.from_data(hr[['awards_won','high_performer']]).test_nominal_association().pvalue\n",
    "```\n",
    "\n",
    "### Influential Points\n",
    "We can convert our data to a crosstab and rerun the model which makes it easier to assess the standardized residuals \n",
    "\n",
    "```python\n",
    "# model using grouped data \n",
    "\n",
    "mod_grouped = smf.glm('yes + no ~ awards_won + high_performer', \n",
    "               family=sm.families.Binomial(), data = awards_hipo_promos)\n",
    "res_grouped = mod_grouped.fit()\n",
    "res_grouped.summary()\n",
    "\n",
    "```\n",
    "\n",
    "|    |   dfb_Intercept |   dfb_awards_won |   dfb_high_performer |   cooks_d |   standard_resid |   hat_diag |   dffits_internal |\n",
    "|---:|----------------:|-----------------:|---------------------:|----------:|-----------------:|-----------:|------------------:|\n",
    "|  0 |       -3.11436  |         0.640813 |             2.29759  |  3.23308  |        -0.707688 |   0.9509   |         -3.11436  |\n",
    "|  1 |        0.160811 |        -0.781542 |             2.29759  |  4.27869  |         0.707688 |   0.962448 |          3.58275  |\n",
    "|  2 |        0.160811 |         0.640813 |            -0.217978 |  0.166694 |         0.707688 |   0.499629 |          0.707164 |\n",
    "|  3 |        0.160811 |        -0.781542 |            -0.217978 |  0.237296 |        -0.707688 |   0.587022 |         -0.843735 |\n",
    "\n",
    "### Parameters\n",
    "|                |   coefficients |\n",
    "|:---------------|---------------:|\n",
    "| Intercept      |      -3.2962   |\n",
    "| awards_won     |       2.51517  |\n",
    "| high_performer |       0.709667 |"
   ]
  },
  {
   "cell_type": "code",
   "execution_count": 5,
   "metadata": {},
   "outputs": [],
   "source": [
    "# creates dataframe of HR employees\n",
    "hr = df.loc[df.department == 'HR'].copy()\n",
    "\n",
    "# gets the top 5 most populous regions\n",
    "top_locs = hr['region'].value_counts()[:5].index\n",
    "\n",
    "# creates groups isolating the largest regions and consolidating the rest as other\n",
    "hr['region_grps'] = hr['region'].apply(lambda x: x if x in top_locs else 'other')\n",
    "\n",
    "# calculates the 90th percentile for training score\n",
    "top_score = np.percentile(hr.avg_training_score, 90)\n",
    "\n",
    "# creates binary variable if they're in the top score\n",
    "hr['top_score'] = hr.avg_training_score.apply(lambda x: 1 if x>= top_score else 0)\n",
    "\n"
   ]
  },
  {
   "cell_type": "code",
   "execution_count": 6,
   "metadata": {},
   "outputs": [
    {
     "data": {
      "image/png": "[encoded data removed]",
      "text/plain": [
       "<Figure size 1080x432 with 6 Axes>"
      ]
     },
     "metadata": {
      "needs_background": "light"
     },
     "output_type": "display_data"
    }
   ],
   "source": [
    "plots.plot_promo_demographics(hr, 'HR')"
   ]
  },
  {
   "cell_type": "code",
   "execution_count": 7,
   "metadata": {},
   "outputs": [
    {
     "data": {
      "text/html": [
       "<table class=\"simpletable\">\n",
       "<caption>Generalized Linear Model Regression Results</caption>\n",
       "<tr>\n",
       "  <th>Dep. Variable:</th>      <td>is_promoted</td>   <th>  No. Observations:  </th>  <td>  2418</td>  \n",
       "</tr>\n",
       "<tr>\n",
       "  <th>Model:</th>                  <td>GLM</td>       <th>  Df Residuals:      </th>  <td>  2416</td>  \n",
       "</tr>\n",
       "<tr>\n",
       "  <th>Model Family:</th>        <td>Binomial</td>     <th>  Df Model:          </th>  <td>     1</td>  \n",
       "</tr>\n",
       "<tr>\n",
       "  <th>Link Function:</th>         <td>logit</td>      <th>  Scale:             </th> <td>  1.0000</td> \n",
       "</tr>\n",
       "<tr>\n",
       "  <th>Method:</th>                <td>IRLS</td>       <th>  Log-Likelihood:    </th> <td> -523.48</td> \n",
       "</tr>\n",
       "<tr>\n",
       "  <th>Date:</th>            <td>Wed, 26 Jan 2022</td> <th>  Deviance:          </th> <td>  1047.0</td> \n",
       "</tr>\n",
       "<tr>\n",
       "  <th>Time:</th>                <td>17:09:30</td>     <th>  Pearson chi2:      </th> <td>2.42e+03</td> \n",
       "</tr>\n",
       "<tr>\n",
       "  <th>No. Iterations:</th>          <td>6</td>        <th>  Pseudo R-squ. (CS):</th> <td>2.660e-05</td>\n",
       "</tr>\n",
       "<tr>\n",
       "  <th>Covariance Type:</th>     <td>nonrobust</td>    <th>                     </th>     <td> </td>    \n",
       "</tr>\n",
       "</table>\n",
       "<table class=\"simpletable\">\n",
       "<tr>\n",
       "                 <td></td>                   <th>coef</th>     <th>std err</th>      <th>z</th>      <th>P>|z|</th>  <th>[0.025</th>    <th>0.975]</th>  \n",
       "</tr>\n",
       "<tr>\n",
       "  <th>Intercept</th>                      <td>   -2.8392</td> <td>    0.116</td> <td>  -24.373</td> <td> 0.000</td> <td>   -3.068</td> <td>   -2.611</td>\n",
       "</tr>\n",
       "<tr>\n",
       "  <th>C(gender, Treatment(\"m\"))[T.f]</th> <td>    0.0453</td> <td>    0.179</td> <td>    0.254</td> <td> 0.800</td> <td>   -0.305</td> <td>    0.395</td>\n",
       "</tr>\n",
       "</table>"
      ],
      "text/plain": [
       "<class 'statsmodels.iolib.summary.Summary'>\n",
       "\"\"\"\n",
       "                 Generalized Linear Model Regression Results                  \n",
       "==============================================================================\n",
       "Dep. Variable:            is_promoted   No. Observations:                 2418\n",
       "Model:                            GLM   Df Residuals:                     2416\n",
       "Model Family:                Binomial   Df Model:                            1\n",
       "Link Function:                  logit   Scale:                          1.0000\n",
       "Method:                          IRLS   Log-Likelihood:                -523.48\n",
       "Date:                Wed, 26 Jan 2022   Deviance:                       1047.0\n",
       "Time:                        17:09:30   Pearson chi2:                 2.42e+03\n",
       "No. Iterations:                     6   Pseudo R-squ. (CS):          2.660e-05\n",
       "Covariance Type:            nonrobust                                         \n",
       "==================================================================================================\n",
       "                                     coef    std err          z      P>|z|      [0.025      0.975]\n",
       "--------------------------------------------------------------------------------------------------\n",
       "Intercept                         -2.8392      0.116    -24.373      0.000      -3.068      -2.611\n",
       "C(gender, Treatment(\"m\"))[T.f]     0.0453      0.179      0.254      0.800      -0.305       0.395\n",
       "==================================================================================================\n",
       "\"\"\""
      ]
     },
     "execution_count": 7,
     "metadata": {},
     "output_type": "execute_result"
    }
   ],
   "source": [
    "mod = smf.glm('is_promoted ~ C(gender,Treatment(\"m\"))', \n",
    "               family = sm.families.Binomial(), data = hr) \n",
    "res = mod.fit()\n",
    "res.summary()"
   ]
  },
  {
   "cell_type": "code",
   "execution_count": 8,
   "metadata": {},
   "outputs": [
    {
     "name": "stdout",
     "output_type": "stream",
     "text": [
      "llr: 0.06\n",
      "p-value:0.8065 \n"
     ]
    }
   ],
   "source": [
    "# llr is difference in null model and saturated model\n",
    "llr=round(res.null_deviance-res.deviance,2)\n",
    "print(f'llr: {llr}')\n",
    "\n",
    "p_val=round(1-stats.chi2.cdf(llr,res.df_model),4)\n",
    "print(f'p-value:{p_val} ')"
   ]
  },
  {
   "cell_type": "code",
   "execution_count": 9,
   "metadata": {},
   "outputs": [
    {
     "data": {
      "text/html": [
       "<table class=\"simpletable\">\n",
       "<caption>Generalized Linear Model Regression Results</caption>\n",
       "<tr>\n",
       "  <th>Dep. Variable:</th>      <td>is_promoted</td>   <th>  No. Observations:  </th>  <td>  2418</td>  \n",
       "</tr>\n",
       "<tr>\n",
       "  <th>Model:</th>                  <td>GLM</td>       <th>  Df Residuals:      </th>  <td>  2414</td>  \n",
       "</tr>\n",
       "<tr>\n",
       "  <th>Model Family:</th>        <td>Binomial</td>     <th>  Df Model:          </th>  <td>     3</td>  \n",
       "</tr>\n",
       "<tr>\n",
       "  <th>Link Function:</th>         <td>logit</td>      <th>  Scale:             </th> <td>  1.0000</td> \n",
       "</tr>\n",
       "<tr>\n",
       "  <th>Method:</th>                <td>IRLS</td>       <th>  Log-Likelihood:    </th> <td> -523.05</td> \n",
       "</tr>\n",
       "<tr>\n",
       "  <th>Date:</th>            <td>Wed, 26 Jan 2022</td> <th>  Deviance:          </th> <td>  1046.1</td> \n",
       "</tr>\n",
       "<tr>\n",
       "  <th>Time:</th>                <td>17:09:30</td>     <th>  Pearson chi2:      </th> <td>2.42e+03</td> \n",
       "</tr>\n",
       "<tr>\n",
       "  <th>No. Iterations:</th>          <td>6</td>        <th>  Pseudo R-squ. (CS):</th> <td>0.0003820</td>\n",
       "</tr>\n",
       "<tr>\n",
       "  <th>Covariance Type:</th>     <td>nonrobust</td>    <th>                     </th>     <td> </td>    \n",
       "</tr>\n",
       "</table>\n",
       "<table class=\"simpletable\">\n",
       "<tr>\n",
       "                         <td></td>                            <th>coef</th>     <th>std err</th>      <th>z</th>      <th>P>|z|</th>  <th>[0.025</th>    <th>0.975]</th>  \n",
       "</tr>\n",
       "<tr>\n",
       "  <th>Intercept</th>                                       <td>   -2.9223</td> <td>    0.296</td> <td>   -9.861</td> <td> 0.000</td> <td>   -3.503</td> <td>   -2.341</td>\n",
       "</tr>\n",
       "<tr>\n",
       "  <th>C(age_group, Treatment(\"gen_z\"))[T.baby_boomer]</th> <td>   -0.3549</td> <td>    0.779</td> <td>   -0.456</td> <td> 0.649</td> <td>   -1.881</td> <td>    1.172</td>\n",
       "</tr>\n",
       "<tr>\n",
       "  <th>C(age_group, Treatment(\"gen_z\"))[T.gen_x]</th>       <td>    0.0088</td> <td>    0.379</td> <td>    0.023</td> <td> 0.982</td> <td>   -0.733</td> <td>    0.751</td>\n",
       "</tr>\n",
       "<tr>\n",
       "  <th>C(age_group, Treatment(\"gen_z\"))[T.mill]</th>        <td>    0.1448</td> <td>    0.313</td> <td>    0.462</td> <td> 0.644</td> <td>   -0.469</td> <td>    0.759</td>\n",
       "</tr>\n",
       "</table>"
      ],
      "text/plain": [
       "<class 'statsmodels.iolib.summary.Summary'>\n",
       "\"\"\"\n",
       "                 Generalized Linear Model Regression Results                  \n",
       "==============================================================================\n",
       "Dep. Variable:            is_promoted   No. Observations:                 2418\n",
       "Model:                            GLM   Df Residuals:                     2414\n",
       "Model Family:                Binomial   Df Model:                            3\n",
       "Link Function:                  logit   Scale:                          1.0000\n",
       "Method:                          IRLS   Log-Likelihood:                -523.05\n",
       "Date:                Wed, 26 Jan 2022   Deviance:                       1046.1\n",
       "Time:                        17:09:30   Pearson chi2:                 2.42e+03\n",
       "No. Iterations:                     6   Pseudo R-squ. (CS):          0.0003820\n",
       "Covariance Type:            nonrobust                                         \n",
       "===================================================================================================================\n",
       "                                                      coef    std err          z      P>|z|      [0.025      0.975]\n",
       "-------------------------------------------------------------------------------------------------------------------\n",
       "Intercept                                          -2.9223      0.296     -9.861      0.000      -3.503      -2.341\n",
       "C(age_group, Treatment(\"gen_z\"))[T.baby_boomer]    -0.3549      0.779     -0.456      0.649      -1.881       1.172\n",
       "C(age_group, Treatment(\"gen_z\"))[T.gen_x]           0.0088      0.379      0.023      0.982      -0.733       0.751\n",
       "C(age_group, Treatment(\"gen_z\"))[T.mill]            0.1448      0.313      0.462      0.644      -0.469       0.759\n",
       "===================================================================================================================\n",
       "\"\"\""
      ]
     },
     "execution_count": 9,
     "metadata": {},
     "output_type": "execute_result"
    }
   ],
   "source": [
    "mod1 = smf.glm('is_promoted ~ C(age_group,Treatment(\"gen_z\"))', \n",
    "               family = sm.families.Binomial(), data = hr) \n",
    "res1 = mod1.fit()\n",
    "res1.summary()"
   ]
  },
  {
   "cell_type": "code",
   "execution_count": 10,
   "metadata": {},
   "outputs": [
    {
     "name": "stdout",
     "output_type": "stream",
     "text": [
      "llr: 0.92\n",
      "p-value:0.8206 \n"
     ]
    }
   ],
   "source": [
    "# llr is difference in null model and saturated model\n",
    "llr1=round(res1.null_deviance-res1.deviance,2)\n",
    "print(f'llr: {llr1}')\n",
    "\n",
    "p_val1=round(1-stats.chi2.cdf(llr1,res1.df_model),4)\n",
    "print(f'p-value:{p_val1} ')"
   ]
  },
  {
   "cell_type": "code",
   "execution_count": 11,
   "metadata": {},
   "outputs": [
    {
     "data": {
      "text/html": [
       "<table class=\"simpletable\">\n",
       "<caption>Generalized Linear Model Regression Results</caption>\n",
       "<tr>\n",
       "  <th>Dep. Variable:</th>      <td>is_promoted</td>   <th>  No. Observations:  </th>  <td>  2418</td>  \n",
       "</tr>\n",
       "<tr>\n",
       "  <th>Model:</th>                  <td>GLM</td>       <th>  Df Residuals:      </th>  <td>  2415</td>  \n",
       "</tr>\n",
       "<tr>\n",
       "  <th>Model Family:</th>        <td>Binomial</td>     <th>  Df Model:          </th>  <td>     2</td>  \n",
       "</tr>\n",
       "<tr>\n",
       "  <th>Link Function:</th>         <td>logit</td>      <th>  Scale:             </th> <td>  1.0000</td> \n",
       "</tr>\n",
       "<tr>\n",
       "  <th>Method:</th>                <td>IRLS</td>       <th>  Log-Likelihood:    </th> <td> -523.18</td> \n",
       "</tr>\n",
       "<tr>\n",
       "  <th>Date:</th>            <td>Wed, 26 Jan 2022</td> <th>  Deviance:          </th> <td>  1046.4</td> \n",
       "</tr>\n",
       "<tr>\n",
       "  <th>Time:</th>                <td>17:09:30</td>     <th>  Pearson chi2:      </th> <td>2.42e+03</td> \n",
       "</tr>\n",
       "<tr>\n",
       "  <th>No. Iterations:</th>          <td>6</td>        <th>  Pseudo R-squ. (CS):</th> <td>0.0002744</td>\n",
       "</tr>\n",
       "<tr>\n",
       "  <th>Covariance Type:</th>     <td>nonrobust</td>    <th>                     </th>     <td> </td>    \n",
       "</tr>\n",
       "</table>\n",
       "<table class=\"simpletable\">\n",
       "<tr>\n",
       "              <td></td>                 <th>coef</th>     <th>std err</th>      <th>z</th>      <th>P>|z|</th>  <th>[0.025</th>    <th>0.975]</th>  \n",
       "</tr>\n",
       "<tr>\n",
       "  <th>Intercept</th>                 <td>   -2.9788</td> <td>    0.330</td> <td>   -9.034</td> <td> 0.000</td> <td>   -3.625</td> <td>   -2.333</td>\n",
       "</tr>\n",
       "<tr>\n",
       "  <th>length_of_service</th>         <td>    0.0965</td> <td>    0.152</td> <td>    0.633</td> <td> 0.526</td> <td>   -0.202</td> <td>    0.395</td>\n",
       "</tr>\n",
       "<tr>\n",
       "  <th>length_of_service:log_los</th> <td>   -0.0346</td> <td>    0.050</td> <td>   -0.690</td> <td> 0.490</td> <td>   -0.133</td> <td>    0.064</td>\n",
       "</tr>\n",
       "</table>"
      ],
      "text/plain": [
       "<class 'statsmodels.iolib.summary.Summary'>\n",
       "\"\"\"\n",
       "                 Generalized Linear Model Regression Results                  \n",
       "==============================================================================\n",
       "Dep. Variable:            is_promoted   No. Observations:                 2418\n",
       "Model:                            GLM   Df Residuals:                     2415\n",
       "Model Family:                Binomial   Df Model:                            2\n",
       "Link Function:                  logit   Scale:                          1.0000\n",
       "Method:                          IRLS   Log-Likelihood:                -523.18\n",
       "Date:                Wed, 26 Jan 2022   Deviance:                       1046.4\n",
       "Time:                        17:09:30   Pearson chi2:                 2.42e+03\n",
       "No. Iterations:                     6   Pseudo R-squ. (CS):          0.0002744\n",
       "Covariance Type:            nonrobust                                         \n",
       "=============================================================================================\n",
       "                                coef    std err          z      P>|z|      [0.025      0.975]\n",
       "---------------------------------------------------------------------------------------------\n",
       "Intercept                    -2.9788      0.330     -9.034      0.000      -3.625      -2.333\n",
       "length_of_service             0.0965      0.152      0.633      0.526      -0.202       0.395\n",
       "length_of_service:log_los    -0.0346      0.050     -0.690      0.490      -0.133       0.064\n",
       "=============================================================================================\n",
       "\"\"\""
      ]
     },
     "execution_count": 11,
     "metadata": {},
     "output_type": "execute_result"
    }
   ],
   "source": [
    "# box tidwell test of linearity in the logit\n",
    "# if the interaction of the log of the continuous variable and the non-transformed variable isn't significant \n",
    "# then the assumption of linearity passes\n",
    "# need to add a constant to the original variable if the min value is 0 or less\n",
    "mod_bt = smf.glm('is_promoted ~ length_of_service + length_of_service:log_los',\n",
    "             family = sm.families.Binomial(), data = hr)\n",
    "res_bt = mod_bt.fit()\n",
    "res_bt.summary()\n",
    "\n",
    "# in practice would use tenure bands"
   ]
  },
  {
   "cell_type": "code",
   "execution_count": 12,
   "metadata": {},
   "outputs": [
    {
     "data": {
      "text/html": [
       "<table class=\"simpletable\">\n",
       "<caption>Generalized Linear Model Regression Results</caption>\n",
       "<tr>\n",
       "  <th>Dep. Variable:</th>      <td>is_promoted</td>   <th>  No. Observations:  </th>  <td>  2418</td>  \n",
       "</tr>\n",
       "<tr>\n",
       "  <th>Model:</th>                  <td>GLM</td>       <th>  Df Residuals:      </th>  <td>  2415</td>  \n",
       "</tr>\n",
       "<tr>\n",
       "  <th>Model Family:</th>        <td>Binomial</td>     <th>  Df Model:          </th>  <td>     2</td>  \n",
       "</tr>\n",
       "<tr>\n",
       "  <th>Link Function:</th>         <td>logit</td>      <th>  Scale:             </th> <td>  1.0000</td> \n",
       "</tr>\n",
       "<tr>\n",
       "  <th>Method:</th>                <td>IRLS</td>       <th>  Log-Likelihood:    </th> <td> -522.84</td> \n",
       "</tr>\n",
       "<tr>\n",
       "  <th>Date:</th>            <td>Wed, 26 Jan 2022</td> <th>  Deviance:          </th> <td>  1045.7</td> \n",
       "</tr>\n",
       "<tr>\n",
       "  <th>Time:</th>                <td>17:09:30</td>     <th>  Pearson chi2:      </th> <td>2.42e+03</td> \n",
       "</tr>\n",
       "<tr>\n",
       "  <th>No. Iterations:</th>          <td>6</td>        <th>  Pseudo R-squ. (CS):</th> <td>0.0005601</td>\n",
       "</tr>\n",
       "<tr>\n",
       "  <th>Covariance Type:</th>     <td>nonrobust</td>    <th>                     </th>     <td> </td>    \n",
       "</tr>\n",
       "</table>\n",
       "<table class=\"simpletable\">\n",
       "<tr>\n",
       "           <td></td>              <th>coef</th>     <th>std err</th>      <th>z</th>      <th>P>|z|</th>  <th>[0.025</th>    <th>0.975]</th>  \n",
       "</tr>\n",
       "<tr>\n",
       "  <th>Intercept</th>           <td>   -2.8094</td> <td>    0.266</td> <td>  -10.567</td> <td> 0.000</td> <td>   -3.330</td> <td>   -2.288</td>\n",
       "</tr>\n",
       "<tr>\n",
       "  <th>tenure_bands[T.2-4]</th> <td>   -0.1879</td> <td>    0.323</td> <td>   -0.581</td> <td> 0.561</td> <td>   -0.822</td> <td>    0.446</td>\n",
       "</tr>\n",
       "<tr>\n",
       "  <th>tenure_bands[T.4+]</th>  <td>    0.0564</td> <td>    0.287</td> <td>    0.197</td> <td> 0.844</td> <td>   -0.507</td> <td>    0.619</td>\n",
       "</tr>\n",
       "</table>"
      ],
      "text/plain": [
       "<class 'statsmodels.iolib.summary.Summary'>\n",
       "\"\"\"\n",
       "                 Generalized Linear Model Regression Results                  \n",
       "==============================================================================\n",
       "Dep. Variable:            is_promoted   No. Observations:                 2418\n",
       "Model:                            GLM   Df Residuals:                     2415\n",
       "Model Family:                Binomial   Df Model:                            2\n",
       "Link Function:                  logit   Scale:                          1.0000\n",
       "Method:                          IRLS   Log-Likelihood:                -522.84\n",
       "Date:                Wed, 26 Jan 2022   Deviance:                       1045.7\n",
       "Time:                        17:09:30   Pearson chi2:                 2.42e+03\n",
       "No. Iterations:                     6   Pseudo R-squ. (CS):          0.0005601\n",
       "Covariance Type:            nonrobust                                         \n",
       "=======================================================================================\n",
       "                          coef    std err          z      P>|z|      [0.025      0.975]\n",
       "---------------------------------------------------------------------------------------\n",
       "Intercept              -2.8094      0.266    -10.567      0.000      -3.330      -2.288\n",
       "tenure_bands[T.2-4]    -0.1879      0.323     -0.581      0.561      -0.822       0.446\n",
       "tenure_bands[T.4+]      0.0564      0.287      0.197      0.844      -0.507       0.619\n",
       "=======================================================================================\n",
       "\"\"\""
      ]
     },
     "execution_count": 12,
     "metadata": {},
     "output_type": "execute_result"
    }
   ],
   "source": [
    "mod2 = smf.glm('is_promoted ~ tenure_bands', \n",
    "               family = sm.families.Binomial(), data = hr) \n",
    "res2 = mod2.fit()\n",
    "res2.summary()"
   ]
  },
  {
   "cell_type": "code",
   "execution_count": 13,
   "metadata": {},
   "outputs": [
    {
     "name": "stdout",
     "output_type": "stream",
     "text": [
      "llr: 1.35\n",
      "p-value:0.5092 \n"
     ]
    }
   ],
   "source": [
    "# llr is difference in null model and saturated model\n",
    "llr2=round(res2.null_deviance-res2.deviance,2)\n",
    "print(f'llr: {llr2}')\n",
    "\n",
    "p_val2=round(1-stats.chi2.cdf(llr2,res2.df_model),4)\n",
    "print(f'p-value:{p_val2} ')"
   ]
  },
  {
   "cell_type": "code",
   "execution_count": 14,
   "metadata": {},
   "outputs": [
    {
     "data": {
      "text/html": [
       "<table class=\"simpletable\">\n",
       "<caption>Generalized Linear Model Regression Results</caption>\n",
       "<tr>\n",
       "  <th>Dep. Variable:</th>      <td>is_promoted</td>   <th>  No. Observations:  </th>  <td>  2418</td> \n",
       "</tr>\n",
       "<tr>\n",
       "  <th>Model:</th>                  <td>GLM</td>       <th>  Df Residuals:      </th>  <td>  2416</td> \n",
       "</tr>\n",
       "<tr>\n",
       "  <th>Model Family:</th>        <td>Binomial</td>     <th>  Df Model:          </th>  <td>     1</td> \n",
       "</tr>\n",
       "<tr>\n",
       "  <th>Link Function:</th>         <td>logit</td>      <th>  Scale:             </th> <td>  1.0000</td>\n",
       "</tr>\n",
       "<tr>\n",
       "  <th>Method:</th>                <td>IRLS</td>       <th>  Log-Likelihood:    </th> <td> -499.45</td>\n",
       "</tr>\n",
       "<tr>\n",
       "  <th>Date:</th>            <td>Wed, 26 Jan 2022</td> <th>  Deviance:          </th> <td>  998.89</td>\n",
       "</tr>\n",
       "<tr>\n",
       "  <th>Time:</th>                <td>17:09:30</td>     <th>  Pearson chi2:      </th> <td>2.42e+03</td>\n",
       "</tr>\n",
       "<tr>\n",
       "  <th>No. Iterations:</th>          <td>6</td>        <th>  Pseudo R-squ. (CS):</th>  <td>0.01971</td>\n",
       "</tr>\n",
       "<tr>\n",
       "  <th>Covariance Type:</th>     <td>nonrobust</td>    <th>                     </th>     <td> </td>   \n",
       "</tr>\n",
       "</table>\n",
       "<table class=\"simpletable\">\n",
       "<tr>\n",
       "       <td></td>         <th>coef</th>     <th>std err</th>      <th>z</th>      <th>P>|z|</th>  <th>[0.025</th>    <th>0.975]</th>  \n",
       "</tr>\n",
       "<tr>\n",
       "  <th>Intercept</th>  <td>   -2.9502</td> <td>    0.094</td> <td>  -31.241</td> <td> 0.000</td> <td>   -3.135</td> <td>   -2.765</td>\n",
       "</tr>\n",
       "<tr>\n",
       "  <th>awards_won</th> <td>    2.5448</td> <td>    0.319</td> <td>    7.987</td> <td> 0.000</td> <td>    1.920</td> <td>    3.169</td>\n",
       "</tr>\n",
       "</table>"
      ],
      "text/plain": [
       "<class 'statsmodels.iolib.summary.Summary'>\n",
       "\"\"\"\n",
       "                 Generalized Linear Model Regression Results                  \n",
       "==============================================================================\n",
       "Dep. Variable:            is_promoted   No. Observations:                 2418\n",
       "Model:                            GLM   Df Residuals:                     2416\n",
       "Model Family:                Binomial   Df Model:                            1\n",
       "Link Function:                  logit   Scale:                          1.0000\n",
       "Method:                          IRLS   Log-Likelihood:                -499.45\n",
       "Date:                Wed, 26 Jan 2022   Deviance:                       998.89\n",
       "Time:                        17:09:30   Pearson chi2:                 2.42e+03\n",
       "No. Iterations:                     6   Pseudo R-squ. (CS):            0.01971\n",
       "Covariance Type:            nonrobust                                         \n",
       "==============================================================================\n",
       "                 coef    std err          z      P>|z|      [0.025      0.975]\n",
       "------------------------------------------------------------------------------\n",
       "Intercept     -2.9502      0.094    -31.241      0.000      -3.135      -2.765\n",
       "awards_won     2.5448      0.319      7.987      0.000       1.920       3.169\n",
       "==============================================================================\n",
       "\"\"\""
      ]
     },
     "execution_count": 14,
     "metadata": {},
     "output_type": "execute_result"
    }
   ],
   "source": [
    "mod3 = smf.glm('is_promoted ~ awards_won', \n",
    "               family = sm.families.Binomial(), data = hr) \n",
    "res3 = mod3.fit()\n",
    "res3.summary()"
   ]
  },
  {
   "cell_type": "code",
   "execution_count": 15,
   "metadata": {},
   "outputs": [
    {
     "name": "stdout",
     "output_type": "stream",
     "text": [
      "llr: 48.14\n",
      "p-value:0.0 \n"
     ]
    }
   ],
   "source": [
    "# llr is difference in null model and saturated model\n",
    "llr3=round(res3.null_deviance-res3.deviance,2)\n",
    "print(f'llr: {llr3}')\n",
    "\n",
    "p_val3=round(1-stats.chi2.cdf(llr3,res3.df_model),4)\n",
    "print(f'p-value:{p_val3} ')"
   ]
  },
  {
   "cell_type": "code",
   "execution_count": 16,
   "metadata": {},
   "outputs": [
    {
     "data": {
      "text/html": [
       "<table class=\"simpletable\">\n",
       "<caption>Generalized Linear Model Regression Results</caption>\n",
       "<tr>\n",
       "  <th>Dep. Variable:</th>      <td>is_promoted</td>   <th>  No. Observations:  </th>  <td>  2418</td> \n",
       "</tr>\n",
       "<tr>\n",
       "  <th>Model:</th>                  <td>GLM</td>       <th>  Df Residuals:      </th>  <td>  2416</td> \n",
       "</tr>\n",
       "<tr>\n",
       "  <th>Model Family:</th>        <td>Binomial</td>     <th>  Df Model:          </th>  <td>     1</td> \n",
       "</tr>\n",
       "<tr>\n",
       "  <th>Link Function:</th>         <td>logit</td>      <th>  Scale:             </th> <td>  1.0000</td>\n",
       "</tr>\n",
       "<tr>\n",
       "  <th>Method:</th>                <td>IRLS</td>       <th>  Log-Likelihood:    </th> <td> -515.06</td>\n",
       "</tr>\n",
       "<tr>\n",
       "  <th>Date:</th>            <td>Wed, 26 Jan 2022</td> <th>  Deviance:          </th> <td>  1030.1</td>\n",
       "</tr>\n",
       "<tr>\n",
       "  <th>Time:</th>                <td>17:09:30</td>     <th>  Pearson chi2:      </th> <td>2.42e+03</td>\n",
       "</tr>\n",
       "<tr>\n",
       "  <th>No. Iterations:</th>          <td>6</td>        <th>  Pseudo R-squ. (CS):</th> <td>0.006967</td>\n",
       "</tr>\n",
       "<tr>\n",
       "  <th>Covariance Type:</th>     <td>nonrobust</td>    <th>                     </th>     <td> </td>   \n",
       "</tr>\n",
       "</table>\n",
       "<table class=\"simpletable\">\n",
       "<tr>\n",
       "         <td></td>           <th>coef</th>     <th>std err</th>      <th>z</th>      <th>P>|z|</th>  <th>[0.025</th>    <th>0.975]</th>  \n",
       "</tr>\n",
       "<tr>\n",
       "  <th>Intercept</th>      <td>   -3.1781</td> <td>    0.135</td> <td>  -23.509</td> <td> 0.000</td> <td>   -3.443</td> <td>   -2.913</td>\n",
       "</tr>\n",
       "<tr>\n",
       "  <th>high_performer</th> <td>    0.7297</td> <td>    0.179</td> <td>    4.077</td> <td> 0.000</td> <td>    0.379</td> <td>    1.080</td>\n",
       "</tr>\n",
       "</table>"
      ],
      "text/plain": [
       "<class 'statsmodels.iolib.summary.Summary'>\n",
       "\"\"\"\n",
       "                 Generalized Linear Model Regression Results                  \n",
       "==============================================================================\n",
       "Dep. Variable:            is_promoted   No. Observations:                 2418\n",
       "Model:                            GLM   Df Residuals:                     2416\n",
       "Model Family:                Binomial   Df Model:                            1\n",
       "Link Function:                  logit   Scale:                          1.0000\n",
       "Method:                          IRLS   Log-Likelihood:                -515.06\n",
       "Date:                Wed, 26 Jan 2022   Deviance:                       1030.1\n",
       "Time:                        17:09:30   Pearson chi2:                 2.42e+03\n",
       "No. Iterations:                     6   Pseudo R-squ. (CS):           0.006967\n",
       "Covariance Type:            nonrobust                                         \n",
       "==================================================================================\n",
       "                     coef    std err          z      P>|z|      [0.025      0.975]\n",
       "----------------------------------------------------------------------------------\n",
       "Intercept         -3.1781      0.135    -23.509      0.000      -3.443      -2.913\n",
       "high_performer     0.7297      0.179      4.077      0.000       0.379       1.080\n",
       "==================================================================================\n",
       "\"\"\""
      ]
     },
     "execution_count": 16,
     "metadata": {},
     "output_type": "execute_result"
    }
   ],
   "source": [
    "mod4 = smf.glm('is_promoted ~ high_performer', \n",
    "               family = sm.families.Binomial(), data = hr) \n",
    "res4 = mod4.fit()\n",
    "res4.summary()"
   ]
  },
  {
   "cell_type": "code",
   "execution_count": 17,
   "metadata": {},
   "outputs": [
    {
     "name": "stdout",
     "output_type": "stream",
     "text": [
      "llr: 16.91\n",
      "p-value:0.0 \n"
     ]
    }
   ],
   "source": [
    "# llr is difference in null model and saturated model\n",
    "llr4=round(res4.null_deviance-res4.deviance,2)\n",
    "print(f'llr: {llr4}')\n",
    "\n",
    "p_val4=round(1-stats.chi2.cdf(llr4,res4.df_model),4)\n",
    "print(f'p-value:{p_val4} ')"
   ]
  },
  {
   "cell_type": "code",
   "execution_count": 18,
   "metadata": {},
   "outputs": [
    {
     "data": {
      "text/html": [
       "<table class=\"simpletable\">\n",
       "<caption>Generalized Linear Model Regression Results</caption>\n",
       "<tr>\n",
       "  <th>Dep. Variable:</th>      <td>is_promoted</td>   <th>  No. Observations:  </th>  <td>  2418</td> \n",
       "</tr>\n",
       "<tr>\n",
       "  <th>Model:</th>                  <td>GLM</td>       <th>  Df Residuals:      </th>  <td>  2412</td> \n",
       "</tr>\n",
       "<tr>\n",
       "  <th>Model Family:</th>        <td>Binomial</td>     <th>  Df Model:          </th>  <td>     5</td> \n",
       "</tr>\n",
       "<tr>\n",
       "  <th>Link Function:</th>         <td>logit</td>      <th>  Scale:             </th> <td>  1.0000</td>\n",
       "</tr>\n",
       "<tr>\n",
       "  <th>Method:</th>                <td>IRLS</td>       <th>  Log-Likelihood:    </th> <td> -521.89</td>\n",
       "</tr>\n",
       "<tr>\n",
       "  <th>Date:</th>            <td>Wed, 26 Jan 2022</td> <th>  Deviance:          </th> <td>  1043.8</td>\n",
       "</tr>\n",
       "<tr>\n",
       "  <th>Time:</th>                <td>17:09:30</td>     <th>  Pearson chi2:      </th> <td>2.42e+03</td>\n",
       "</tr>\n",
       "<tr>\n",
       "  <th>No. Iterations:</th>          <td>6</td>        <th>  Pseudo R-squ. (CS):</th> <td>0.001340</td>\n",
       "</tr>\n",
       "<tr>\n",
       "  <th>Covariance Type:</th>     <td>nonrobust</td>    <th>                     </th>     <td> </td>   \n",
       "</tr>\n",
       "</table>\n",
       "<table class=\"simpletable\">\n",
       "<tr>\n",
       "              <td></td>                <th>coef</th>     <th>std err</th>      <th>z</th>      <th>P>|z|</th>  <th>[0.025</th>    <th>0.975]</th>  \n",
       "</tr>\n",
       "<tr>\n",
       "  <th>Intercept</th>                <td>   -2.9500</td> <td>    0.166</td> <td>  -17.727</td> <td> 0.000</td> <td>   -3.276</td> <td>   -2.624</td>\n",
       "</tr>\n",
       "<tr>\n",
       "  <th>region_grps[T.region_13]</th> <td>   -0.3335</td> <td>    0.611</td> <td>   -0.546</td> <td> 0.585</td> <td>   -1.531</td> <td>    0.864</td>\n",
       "</tr>\n",
       "<tr>\n",
       "  <th>region_grps[T.region_2]</th>  <td>    0.1622</td> <td>    0.218</td> <td>    0.742</td> <td> 0.458</td> <td>   -0.266</td> <td>    0.590</td>\n",
       "</tr>\n",
       "<tr>\n",
       "  <th>region_grps[T.region_22]</th> <td>    0.4044</td> <td>    0.269</td> <td>    1.501</td> <td> 0.133</td> <td>   -0.124</td> <td>    0.933</td>\n",
       "</tr>\n",
       "<tr>\n",
       "  <th>region_grps[T.region_26]</th> <td>    0.2991</td> <td>    0.454</td> <td>    0.659</td> <td> 0.510</td> <td>   -0.591</td> <td>    1.189</td>\n",
       "</tr>\n",
       "<tr>\n",
       "  <th>region_grps[T.region_7]</th>  <td>    0.0232</td> <td>    0.340</td> <td>    0.068</td> <td> 0.946</td> <td>   -0.643</td> <td>    0.689</td>\n",
       "</tr>\n",
       "</table>"
      ],
      "text/plain": [
       "<class 'statsmodels.iolib.summary.Summary'>\n",
       "\"\"\"\n",
       "                 Generalized Linear Model Regression Results                  \n",
       "==============================================================================\n",
       "Dep. Variable:            is_promoted   No. Observations:                 2418\n",
       "Model:                            GLM   Df Residuals:                     2412\n",
       "Model Family:                Binomial   Df Model:                            5\n",
       "Link Function:                  logit   Scale:                          1.0000\n",
       "Method:                          IRLS   Log-Likelihood:                -521.89\n",
       "Date:                Wed, 26 Jan 2022   Deviance:                       1043.8\n",
       "Time:                        17:09:30   Pearson chi2:                 2.42e+03\n",
       "No. Iterations:                     6   Pseudo R-squ. (CS):           0.001340\n",
       "Covariance Type:            nonrobust                                         \n",
       "============================================================================================\n",
       "                               coef    std err          z      P>|z|      [0.025      0.975]\n",
       "--------------------------------------------------------------------------------------------\n",
       "Intercept                   -2.9500      0.166    -17.727      0.000      -3.276      -2.624\n",
       "region_grps[T.region_13]    -0.3335      0.611     -0.546      0.585      -1.531       0.864\n",
       "region_grps[T.region_2]      0.1622      0.218      0.742      0.458      -0.266       0.590\n",
       "region_grps[T.region_22]     0.4044      0.269      1.501      0.133      -0.124       0.933\n",
       "region_grps[T.region_26]     0.2991      0.454      0.659      0.510      -0.591       1.189\n",
       "region_grps[T.region_7]      0.0232      0.340      0.068      0.946      -0.643       0.689\n",
       "============================================================================================\n",
       "\"\"\""
      ]
     },
     "execution_count": 18,
     "metadata": {},
     "output_type": "execute_result"
    }
   ],
   "source": [
    "mod5 = smf.glm('is_promoted ~ region_grps', \n",
    "               family = sm.families.Binomial(), data = hr) \n",
    "res5 = mod5.fit()\n",
    "res5.summary()"
   ]
  },
  {
   "cell_type": "code",
   "execution_count": 19,
   "metadata": {},
   "outputs": [
    {
     "name": "stdout",
     "output_type": "stream",
     "text": [
      "llr: 3.24\n",
      "p-value:0.663 \n"
     ]
    }
   ],
   "source": [
    "# llr is difference in null model and saturated model\n",
    "llr5=round(res5.null_deviance-res5.deviance,2)\n",
    "print(f'llr: {llr5}')\n",
    "\n",
    "p_val5=round(1-stats.chi2.cdf(llr5,res5.df_model),4)\n",
    "print(f'p-value:{p_val5} ')"
   ]
  },
  {
   "cell_type": "code",
   "execution_count": 20,
   "metadata": {},
   "outputs": [
    {
     "data": {
      "text/html": [
       "<table class=\"simpletable\">\n",
       "<caption>Generalized Linear Model Regression Results</caption>\n",
       "<tr>\n",
       "  <th>Dep. Variable:</th>      <td>is_promoted</td>   <th>  No. Observations:  </th>  <td>  2418</td> \n",
       "</tr>\n",
       "<tr>\n",
       "  <th>Model:</th>                  <td>GLM</td>       <th>  Df Residuals:      </th>  <td>  2415</td> \n",
       "</tr>\n",
       "<tr>\n",
       "  <th>Model Family:</th>        <td>Binomial</td>     <th>  Df Model:          </th>  <td>     2</td> \n",
       "</tr>\n",
       "<tr>\n",
       "  <th>Link Function:</th>         <td>logit</td>      <th>  Scale:             </th> <td>  1.0000</td>\n",
       "</tr>\n",
       "<tr>\n",
       "  <th>Method:</th>                <td>IRLS</td>       <th>  Log-Likelihood:    </th> <td> -491.79</td>\n",
       "</tr>\n",
       "<tr>\n",
       "  <th>Date:</th>            <td>Wed, 26 Jan 2022</td> <th>  Deviance:          </th> <td>  983.57</td>\n",
       "</tr>\n",
       "<tr>\n",
       "  <th>Time:</th>                <td>17:09:30</td>     <th>  Pearson chi2:      </th> <td>2.40e+03</td>\n",
       "</tr>\n",
       "<tr>\n",
       "  <th>No. Iterations:</th>          <td>6</td>        <th>  Pseudo R-squ. (CS):</th>  <td>0.02590</td>\n",
       "</tr>\n",
       "<tr>\n",
       "  <th>Covariance Type:</th>     <td>nonrobust</td>    <th>                     </th>     <td> </td>   \n",
       "</tr>\n",
       "</table>\n",
       "<table class=\"simpletable\">\n",
       "<tr>\n",
       "         <td></td>           <th>coef</th>     <th>std err</th>      <th>z</th>      <th>P>|z|</th>  <th>[0.025</th>    <th>0.975]</th>  \n",
       "</tr>\n",
       "<tr>\n",
       "  <th>Intercept</th>      <td>   -3.2962</td> <td>    0.140</td> <td>  -23.492</td> <td> 0.000</td> <td>   -3.571</td> <td>   -3.021</td>\n",
       "</tr>\n",
       "<tr>\n",
       "  <th>awards_won</th>     <td>    2.5152</td> <td>    0.323</td> <td>    7.785</td> <td> 0.000</td> <td>    1.882</td> <td>    3.148</td>\n",
       "</tr>\n",
       "<tr>\n",
       "  <th>high_performer</th> <td>    0.7097</td> <td>    0.183</td> <td>    3.885</td> <td> 0.000</td> <td>    0.352</td> <td>    1.068</td>\n",
       "</tr>\n",
       "</table>"
      ],
      "text/plain": [
       "<class 'statsmodels.iolib.summary.Summary'>\n",
       "\"\"\"\n",
       "                 Generalized Linear Model Regression Results                  \n",
       "==============================================================================\n",
       "Dep. Variable:            is_promoted   No. Observations:                 2418\n",
       "Model:                            GLM   Df Residuals:                     2415\n",
       "Model Family:                Binomial   Df Model:                            2\n",
       "Link Function:                  logit   Scale:                          1.0000\n",
       "Method:                          IRLS   Log-Likelihood:                -491.79\n",
       "Date:                Wed, 26 Jan 2022   Deviance:                       983.57\n",
       "Time:                        17:09:30   Pearson chi2:                 2.40e+03\n",
       "No. Iterations:                     6   Pseudo R-squ. (CS):            0.02590\n",
       "Covariance Type:            nonrobust                                         \n",
       "==================================================================================\n",
       "                     coef    std err          z      P>|z|      [0.025      0.975]\n",
       "----------------------------------------------------------------------------------\n",
       "Intercept         -3.2962      0.140    -23.492      0.000      -3.571      -3.021\n",
       "awards_won         2.5152      0.323      7.785      0.000       1.882       3.148\n",
       "high_performer     0.7097      0.183      3.885      0.000       0.352       1.068\n",
       "==================================================================================\n",
       "\"\"\""
      ]
     },
     "execution_count": 20,
     "metadata": {},
     "output_type": "execute_result"
    }
   ],
   "source": [
    "mod6 = smf.glm('is_promoted ~ awards_won + high_performer', \n",
    "               family = sm.families.Binomial(), data = hr) \n",
    "res6 = mod6.fit()\n",
    "res6.summary()"
   ]
  },
  {
   "cell_type": "code",
   "execution_count": 21,
   "metadata": {},
   "outputs": [
    {
     "name": "stdout",
     "output_type": "stream",
     "text": [
      "llr: 63.46\n",
      "p-value:0.0 \n"
     ]
    }
   ],
   "source": [
    "# llr is difference in null model and saturated model\n",
    "llr6=round(res6.null_deviance-res6.deviance,2)\n",
    "print(f'llr: {llr6}')\n",
    "\n",
    "p_val6=round(1-stats.chi2.cdf(llr6,res6.df_model),4)\n",
    "print(f'p-value:{p_val6} ')"
   ]
  },
  {
   "cell_type": "code",
   "execution_count": 22,
   "metadata": {},
   "outputs": [
    {
     "name": "stdout",
     "output_type": "stream",
     "text": [
      "llr: 15.32\n",
      "p-value:0.0001 \n"
     ]
    }
   ],
   "source": [
    "# compare model with talent group and awards_won to the model with awards only\n",
    "llr6a=round(res3.deviance-res6.deviance,2)\n",
    "print(f'llr: {llr6a}')\n",
    "\n",
    "p_val6a=round(1-stats.chi2.cdf(llr6a,res6.df_model - res3.df_model),4)\n",
    "print(f'p-value:{p_val6a} ')"
   ]
  },
  {
   "cell_type": "code",
   "execution_count": 23,
   "metadata": {},
   "outputs": [
    {
     "name": "stdout",
     "output_type": "stream",
     "text": [
      "llr: 46.55\n",
      "p-value:0.0\n"
     ]
    }
   ],
   "source": [
    "# compare model with high performer and awards_won to the model with high performer only\n",
    "llr6b=round(res4.deviance-res6.deviance,2)\n",
    "print(f'llr: {llr6b}')\n",
    "\n",
    "p_val6b=round(1-stats.chi2.cdf(llr6b,res6.df_model - res4.df_model),4)\n",
    "print(f'p-value:{p_val6b}')\n",
    "\n",
    "\n",
    "# awards won seems to be a stronger predictor than talent_group, but would leave both in as it's expected"
   ]
  },
  {
   "cell_type": "code",
   "execution_count": 24,
   "metadata": {},
   "outputs": [
    {
     "data": {
      "text/plain": [
       "0.16681212400203504"
      ]
     },
     "execution_count": 24,
     "metadata": {},
     "output_type": "execute_result"
    }
   ],
   "source": [
    "# an indication of multicollinearity is if the model is significant but the individual predictors are not\n",
    "# can also use a chi-square test to check if there's association between awards_won and talent group\n",
    "sm.stats.Table.from_data(hr[['awards_won','high_performer']]).test_nominal_association().pvalue"
   ]
  },
  {
   "cell_type": "code",
   "execution_count": 25,
   "metadata": {},
   "outputs": [],
   "source": [
    "# Binomial Format shows success and failures for records with the same covariates\n",
    "awards_hipo_promos = hr.groupby(['awards_won','high_performer', \n",
    "                                   'is_promoted'])['employee_id'].count().unstack('is_promoted').reset_index()\n",
    "awards_hipo_promos.rename(columns = {1:'yes', 0:'no'}, inplace = True)\n",
    "\n",
    "awards_hipo_promos.fillna(0,inplace=True)"
   ]
  },
  {
   "cell_type": "code",
   "execution_count": 26,
   "metadata": {},
   "outputs": [
    {
     "data": {
      "text/html": [
       "<table class=\"simpletable\">\n",
       "<caption>Generalized Linear Model Regression Results</caption>\n",
       "<tr>\n",
       "  <th>Dep. Variable:</th>     <td>['yes', 'no']</td>  <th>  No. Observations:  </th>  <td>     4</td> \n",
       "</tr>\n",
       "<tr>\n",
       "  <th>Model:</th>                  <td>GLM</td>       <th>  Df Residuals:      </th>  <td>     1</td> \n",
       "</tr>\n",
       "<tr>\n",
       "  <th>Model Family:</th>        <td>Binomial</td>     <th>  Df Model:          </th>  <td>     2</td> \n",
       "</tr>\n",
       "<tr>\n",
       "  <th>Link Function:</th>         <td>logit</td>      <th>  Scale:             </th> <td>  1.0000</td>\n",
       "</tr>\n",
       "<tr>\n",
       "  <th>Method:</th>                <td>IRLS</td>       <th>  Log-Likelihood:    </th> <td> -9.6380</td>\n",
       "</tr>\n",
       "<tr>\n",
       "  <th>Date:</th>            <td>Wed, 26 Jan 2022</td> <th>  Deviance:          </th> <td> 0.49527</td>\n",
       "</tr>\n",
       "<tr>\n",
       "  <th>Time:</th>                <td>17:09:30</td>     <th>  Pearson chi2:      </th>  <td> 0.501</td> \n",
       "</tr>\n",
       "<tr>\n",
       "  <th>No. Iterations:</th>          <td>6</td>        <th>  Pseudo R-squ. (CS):</th>  <td> 1.000</td> \n",
       "</tr>\n",
       "<tr>\n",
       "  <th>Covariance Type:</th>     <td>nonrobust</td>    <th>                     </th>     <td> </td>   \n",
       "</tr>\n",
       "</table>\n",
       "<table class=\"simpletable\">\n",
       "<tr>\n",
       "         <td></td>           <th>coef</th>     <th>std err</th>      <th>z</th>      <th>P>|z|</th>  <th>[0.025</th>    <th>0.975]</th>  \n",
       "</tr>\n",
       "<tr>\n",
       "  <th>Intercept</th>      <td>   -3.2962</td> <td>    0.140</td> <td>  -23.492</td> <td> 0.000</td> <td>   -3.571</td> <td>   -3.021</td>\n",
       "</tr>\n",
       "<tr>\n",
       "  <th>awards_won</th>     <td>    2.5152</td> <td>    0.323</td> <td>    7.785</td> <td> 0.000</td> <td>    1.882</td> <td>    3.148</td>\n",
       "</tr>\n",
       "<tr>\n",
       "  <th>high_performer</th> <td>    0.7097</td> <td>    0.183</td> <td>    3.885</td> <td> 0.000</td> <td>    0.352</td> <td>    1.068</td>\n",
       "</tr>\n",
       "</table>"
      ],
      "text/plain": [
       "<class 'statsmodels.iolib.summary.Summary'>\n",
       "\"\"\"\n",
       "                 Generalized Linear Model Regression Results                  \n",
       "==============================================================================\n",
       "Dep. Variable:          ['yes', 'no']   No. Observations:                    4\n",
       "Model:                            GLM   Df Residuals:                        1\n",
       "Model Family:                Binomial   Df Model:                            2\n",
       "Link Function:                  logit   Scale:                          1.0000\n",
       "Method:                          IRLS   Log-Likelihood:                -9.6380\n",
       "Date:                Wed, 26 Jan 2022   Deviance:                      0.49527\n",
       "Time:                        17:09:30   Pearson chi2:                    0.501\n",
       "No. Iterations:                     6   Pseudo R-squ. (CS):              1.000\n",
       "Covariance Type:            nonrobust                                         \n",
       "==================================================================================\n",
       "                     coef    std err          z      P>|z|      [0.025      0.975]\n",
       "----------------------------------------------------------------------------------\n",
       "Intercept         -3.2962      0.140    -23.492      0.000      -3.571      -3.021\n",
       "awards_won         2.5152      0.323      7.785      0.000       1.882       3.148\n",
       "high_performer     0.7097      0.183      3.885      0.000       0.352       1.068\n",
       "==================================================================================\n",
       "\"\"\""
      ]
     },
     "execution_count": 26,
     "metadata": {},
     "output_type": "execute_result"
    }
   ],
   "source": [
    "# model using grouped data \n",
    "\n",
    "mod_grouped = smf.glm('yes + no ~ awards_won + high_performer', \n",
    "               family=sm.families.Binomial(), data = awards_hipo_promos)\n",
    "res_grouped = mod_grouped.fit()\n",
    "res_grouped.summary()\n"
   ]
  },
  {
   "cell_type": "code",
   "execution_count": 27,
   "metadata": {},
   "outputs": [
    {
     "data": {
      "text/plain": [
       "0.48159"
      ]
     },
     "execution_count": 27,
     "metadata": {},
     "output_type": "execute_result"
    }
   ],
   "source": [
    "# when the predictors are solely categorical and logistic regression is performed on the contigency table\n",
    "# goodness-of-fit can be measured using the deviance; large deviance indicates lack of fit\n",
    "# deviance follows a chi-square distribution if at least 80% of the expected values are at least 5\n",
    "# null hypothesis is that the model that we built is no different than the saturated model\n",
    "\n",
    "p_val_res_grouped=round(1 - stats.chi2.cdf(res_grouped.deviance, res_grouped.df_resid),5)\n",
    "p_val_res_grouped\n",
    "\n",
    "# with p > 0.05 we fail to reject the null hypothesis; the model fits decently "
   ]
  },
  {
   "cell_type": "code",
   "execution_count": 28,
   "metadata": {},
   "outputs": [
    {
     "data": {
      "text/html": [
       "<div>\n",
       "<style scoped>\n",
       "    .dataframe tbody tr th:only-of-type {\n",
       "        vertical-align: middle;\n",
       "    }\n",
       "\n",
       "    .dataframe tbody tr th {\n",
       "        vertical-align: top;\n",
       "    }\n",
       "\n",
       "    .dataframe thead th {\n",
       "        text-align: right;\n",
       "    }\n",
       "</style>\n",
       "<table border=\"1\" class=\"dataframe\">\n",
       "  <thead>\n",
       "    <tr style=\"text-align: right;\">\n",
       "      <th></th>\n",
       "      <th>dfb_Intercept</th>\n",
       "      <th>dfb_awards_won</th>\n",
       "      <th>dfb_high_performer</th>\n",
       "      <th>cooks_d</th>\n",
       "      <th>standard_resid</th>\n",
       "      <th>hat_diag</th>\n",
       "      <th>dffits_internal</th>\n",
       "    </tr>\n",
       "  </thead>\n",
       "  <tbody>\n",
       "    <tr>\n",
       "      <th>0</th>\n",
       "      <td>-3.11436</td>\n",
       "      <td>0.64081</td>\n",
       "      <td>2.29759</td>\n",
       "      <td>3.23308</td>\n",
       "      <td>-0.70769</td>\n",
       "      <td>0.95090</td>\n",
       "      <td>-3.11436</td>\n",
       "    </tr>\n",
       "    <tr>\n",
       "      <th>1</th>\n",
       "      <td>0.16081</td>\n",
       "      <td>-0.78154</td>\n",
       "      <td>2.29759</td>\n",
       "      <td>4.27869</td>\n",
       "      <td>0.70769</td>\n",
       "      <td>0.96245</td>\n",
       "      <td>3.58275</td>\n",
       "    </tr>\n",
       "    <tr>\n",
       "      <th>2</th>\n",
       "      <td>0.16081</td>\n",
       "      <td>0.64081</td>\n",
       "      <td>-0.21798</td>\n",
       "      <td>0.16669</td>\n",
       "      <td>0.70769</td>\n",
       "      <td>0.49963</td>\n",
       "      <td>0.70716</td>\n",
       "    </tr>\n",
       "    <tr>\n",
       "      <th>3</th>\n",
       "      <td>0.16081</td>\n",
       "      <td>-0.78154</td>\n",
       "      <td>-0.21798</td>\n",
       "      <td>0.23730</td>\n",
       "      <td>-0.70769</td>\n",
       "      <td>0.58702</td>\n",
       "      <td>-0.84373</td>\n",
       "    </tr>\n",
       "  </tbody>\n",
       "</table>\n",
       "</div>"
      ],
      "text/plain": [
       "   dfb_Intercept  dfb_awards_won  dfb_high_performer  cooks_d  standard_resid  \\\n",
       "0       -3.11436         0.64081             2.29759  3.23308        -0.70769   \n",
       "1        0.16081        -0.78154             2.29759  4.27869         0.70769   \n",
       "2        0.16081         0.64081            -0.21798  0.16669         0.70769   \n",
       "3        0.16081        -0.78154            -0.21798  0.23730        -0.70769   \n",
       "\n",
       "   hat_diag  dffits_internal  \n",
       "0   0.95090         -3.11436  \n",
       "1   0.96245          3.58275  \n",
       "2   0.49963          0.70716  \n",
       "3   0.58702         -0.84373  "
      ]
     },
     "execution_count": 28,
     "metadata": {},
     "output_type": "execute_result"
    }
   ],
   "source": [
    "res_grouped.get_influence().summary_frame()"
   ]
  },
  {
   "cell_type": "code",
   "execution_count": 29,
   "metadata": {},
   "outputs": [
    {
     "data": {
      "text/html": [
       "<div>\n",
       "<style scoped>\n",
       "    .dataframe tbody tr th:only-of-type {\n",
       "        vertical-align: middle;\n",
       "    }\n",
       "\n",
       "    .dataframe tbody tr th {\n",
       "        vertical-align: top;\n",
       "    }\n",
       "\n",
       "    .dataframe thead th {\n",
       "        text-align: right;\n",
       "    }\n",
       "</style>\n",
       "<table border=\"1\" class=\"dataframe\">\n",
       "  <thead>\n",
       "    <tr style=\"text-align: right;\">\n",
       "      <th>is_promoted</th>\n",
       "      <th>fitted_yes</th>\n",
       "      <th>fitted_no</th>\n",
       "    </tr>\n",
       "  </thead>\n",
       "  <tbody>\n",
       "    <tr>\n",
       "      <th>0</th>\n",
       "      <td>50.08984</td>\n",
       "      <td>1352.91016</td>\n",
       "    </tr>\n",
       "    <tr>\n",
       "      <th>1</th>\n",
       "      <td>67.91016</td>\n",
       "      <td>902.08984</td>\n",
       "    </tr>\n",
       "    <tr>\n",
       "      <th>2</th>\n",
       "      <td>6.91016</td>\n",
       "      <td>15.08984</td>\n",
       "    </tr>\n",
       "    <tr>\n",
       "      <th>3</th>\n",
       "      <td>11.08984</td>\n",
       "      <td>11.91016</td>\n",
       "    </tr>\n",
       "  </tbody>\n",
       "</table>\n",
       "</div>"
      ],
      "text/plain": [
       "is_promoted  fitted_yes  fitted_no\n",
       "0              50.08984 1352.91016\n",
       "1              67.91016  902.08984\n",
       "2               6.91016   15.08984\n",
       "3              11.08984   11.91016"
      ]
     },
     "execution_count": 29,
     "metadata": {},
     "output_type": "execute_result"
    }
   ],
   "source": [
    "# can add the fitted values from the model to our dataframe and observe that all of the expected values are at least 5\n",
    "awards_hipo_promos['fitted_yes'] = res_grouped.fittedvalues * (awards_hipo_promos.yes + awards_hipo_promos.no)\n",
    "awards_hipo_promos['fitted_no'] = (1 - res_grouped.fittedvalues) * (awards_hipo_promos.yes + awards_hipo_promos.no)\n",
    "awards_hipo_promos[['fitted_yes','fitted_no']]"
   ]
  },
  {
   "cell_type": "code",
   "execution_count": 30,
   "metadata": {},
   "outputs": [
    {
     "data": {
      "image/png": "[encoded data removed]",
      "text/plain": [
       "<Figure size 432x288 with 1 Axes>"
      ]
     },
     "metadata": {
      "needs_background": "light"
     },
     "output_type": "display_data"
    }
   ],
   "source": [
    "pct_promoted = res_grouped.fittedvalues.sort_values()[:3]\n",
    "labels = ['No Award / \\nLow-Mid Performer', 'High Performer', 'Award Winner']\n",
    "plots.plot_fitted_values(labels, pct_promoted)"
   ]
  },
  {
   "cell_type": "markdown",
   "metadata": {},
   "source": [
    "## Model for the Operations Department\n",
    "\n",
    "The chi-square analysis showed that the Operations department had the expected number of promotions. I will follow the same procedure that I used above to identify the variables that provide the best fit. The table below summarizes the models fit with age group, gender, tenure bands, awards won, high performer, and region groups as potential explanatory variables.\n",
    "\n",
    "The AIC for the null model isn't provided in the GLM results. It is calculated as -2(log-likelihood) + 2K where K is the number of parameters.\n",
    "\n",
    "```python\n",
    "# Calculate AIC for the null model\n",
    "#llnull is the log likelihood for the null model and the intercept is the only predictor\n",
    "# alternatively add 2 to the deviance\n",
    "(-2*res.llnull) + 2\n",
    "\n",
    "```\n",
    "\n",
    "\n",
    "|model| explanatory variables        | Deviance|  df | AIC | Models Compared| Deviance Difference |\n",
    "|:----|-----------------------------:|:-------:|----:|----:| --------------:|--------------------:|\n",
    "|null |                              | 6874.17    |11347 |6876.17 |                |                     |\n",
    "|mod| gender        | 6872.3|  11346 | 6876.33 | null| 1.83 (df = 1)|\n",
    "|mod1| age group        | 6858.0|  11345 | 6865.96 | null| 16.21 (df = 3) |\n",
    "|mod2| tenure bands       | 6857.9|  11345 | 6863.90 | null| 16.27 (df = 2) |\n",
    "|mod3| awards won        | 6597.7|  11346 | 6601.70 | null| 276.47 (df = 1) |\n",
    "|mod4| high performer        |6831.5|  11346 | 6835.53 | null| 42.64 (df = 1) |\n",
    "|mod5| region groups        | 6830.6|  11344 | 6838.55 | null| 43.62 (df = 5) |\n",
    "|mod6| awards won + high performer |6554.9|  11345 | 6560.87 | mod3: awards won| 15.32 (df = 1) |\n",
    "||         | |   |  | mod4: high performer| 46.55 (df = 1) |\n",
    "\n",
    "\n",
    "### Multicollinearity\n",
    "High performance and winning an award are the strongest predictors of whether an employee in the Operations department receives a promotion. However, with the exception of gender, the variables considered can be used to explain the odds of promotion. A series of chi-square tests were performed to see if there is any association between these categorical variables. The results of these tests indicate an association between:\n",
    "- age group and tenure\n",
    "- high performer and tenure\n",
    "- high performer and region\n",
    "- high performer and age group\n",
    "\n",
    "Based on these results, we can eliminate tenure bands, region groups and age group from our final model\n",
    "\n",
    "```python\n",
    "## Check for correlation between categorical variables\n",
    "awards_performer = round(sm.stats.Table.from_data(ops[['awards_won','high_performer']]).test_nominal_association().pvalue, 3)\n",
    "print(f'p-value of the chi-square test of awards_won and high_performer is {awards_performer}')\n",
    "\n",
    "# p-value of the chi-square test of awards_won and high_performer is 0.536\n",
    "\n",
    "age_tenure = round(sm.stats.Table.from_data(ops[['age_group','tenure_bands']]).test_nominal_association().pvalue, 3)\n",
    "print(f'p-value of the chi-square test of age_group and tenure is {age_tenure}')\n",
    "\n",
    "# p-value of the chi-square test of age_group and tenure is 0.0\n",
    "\n",
    "awards_tenure = round(sm.stats.Table.from_data(ops[['awards_won','tenure_bands']]).test_nominal_association().pvalue, 3)\n",
    "print(f'p-value of the chi-square test of awards and tenure is {awards_tenure}')\n",
    "\n",
    "# p-value of the chi-square test of awards and tenure is 0.605\n",
    "\n",
    "high_perf_tenure = round(sm.stats.Table.from_data(ops[['high_performer','tenure_bands']]).test_nominal_association().pvalue, 3)\n",
    "print(f'p-value of the chi-square test of high performer and tenure is {high_perf_tenure}')\n",
    "\n",
    "# p-value of the chi-square test of high performer and tenure is 0.0\n",
    "\n",
    "high_perf_region = round(sm.stats.Table.from_data(ops[['high_performer','region_grps']]).test_nominal_association().pvalue, 3)\n",
    "print(f'p-value of the chi-square test of high performer and region is {high_perf_region}')\n",
    "\n",
    "# p-value of the chi-square test of high performer and region is 0.004\n",
    "\n",
    "high_perf_age = round(sm.stats.Table.from_data(ops[['high_performer','age_group']]).test_nominal_association().pvalue, 3)\n",
    "print(f'p-value of the chi-square test of high performer and age group is {high_perf_age}')\n",
    "\n",
    "# p-value of the chi-square test of high performer and age group is 0.0\n",
    "\n",
    "```\n",
    "\n",
    "\n",
    "### Influential Points\n",
    "We can convert our data to a crosstab and rerun the model which makes it easier to assess the standardized residuals \n",
    "\n",
    "```python\n",
    "# model using grouped data \n",
    "\n",
    "ops_mod_grouped = smf.glm('yes + no ~ awards_won + high_performer', \n",
    "               family=sm.families.Binomial(), data = ops_awards_hipo)\n",
    "ops_res_grouped = ops_mod_grouped.fit()\n",
    "ops_res_grouped.summary()\n",
    "\n",
    "\n",
    "inf = ops_res_grouped.get_influence()\n",
    "inf.summary_frame()\n",
    "\n",
    "```\n",
    "\n",
    "|    |   dfb_Intercept |   dfb_awards_won |   dfb_high_performer |   cooks_d |   standard_resid |   hat_diag |   dffits_internal |\n",
    "|---:|----------------:|-----------------:|---------------------:|----------:|-----------------:|-----------:|------------------:|\n",
    "|  0 |        4.72153  |        -0.958557 |            -3.57298  |  7.43095  |          1.01723 |   0.955642 |           4.72153 |\n",
    "|  1 |       -0.219158 |         1.0795   |            -3.57298  | 10.9197   |         -1.01723 |   0.96938  |          -5.72356 |\n",
    "|  2 |       -0.219158 |        -0.958557 |             0.289607 |  0.365797 |         -1.01723 |   0.514687 |          -1.04756 |\n",
    "|  3 |       -0.219158 |         1.0795   |             0.289607 |  0.439507 |          1.01723 |   0.56029  |           1.14827 |\n",
    "\n",
    "\n",
    "### Parameters\n",
    "|                |   coefficients |\n",
    "|:---------------|---------------:|\n",
    "| Intercept      |      -2.67037  |\n",
    "| awards_won     |       2.34779  |\n",
    "| high_performer |       0.442539 |"
   ]
  },
  {
   "cell_type": "code",
   "execution_count": 31,
   "metadata": {},
   "outputs": [],
   "source": [
    "ops = df.loc[df.department == 'Operations'].copy()\n",
    "top_locs = ops['region'].value_counts()[:3].index # gets list of 3 largest locations\n",
    "ops['region_grps'] = ops['region'].apply(lambda x: x if x in top_locs else 'other')"
   ]
  },
  {
   "cell_type": "code",
   "execution_count": 32,
   "metadata": {},
   "outputs": [
    {
     "data": {
      "image/png": "[encoded data removed]",
      "text/plain": [
       "<Figure size 1080x432 with 6 Axes>"
      ]
     },
     "metadata": {
      "needs_background": "light"
     },
     "output_type": "display_data"
    }
   ],
   "source": [
    "plots.plot_promo_demographics(ops, 'Operations')"
   ]
  },
  {
   "cell_type": "code",
   "execution_count": 33,
   "metadata": {},
   "outputs": [
    {
     "data": {
      "text/html": [
       "<table class=\"simpletable\">\n",
       "<tr>\n",
       "        <td>Model:</td>               <td>GLM</td>            <td>AIC:</td>        <td>6876.3353</td> \n",
       "</tr>\n",
       "<tr>\n",
       "    <td>Link Function:</td>          <td>logit</td>           <td>BIC:</td>       <td>-99062.9611</td>\n",
       "</tr>\n",
       "<tr>\n",
       "  <td>Dependent Variable:</td>    <td>is_promoted</td>   <td>Log-Likelihood:</td>   <td>-3436.2</td>  \n",
       "</tr>\n",
       "<tr>\n",
       "         <td>Date:</td>        <td>2022-01-26 17:09</td>    <td>LL-Null:</td>       <td>-3437.1</td>  \n",
       "</tr>\n",
       "<tr>\n",
       "   <td>No. Observations:</td>        <td>11348</td>         <td>Deviance:</td>      <td>6872.3</td>   \n",
       "</tr>\n",
       "<tr>\n",
       "       <td>Df Model:</td>              <td>1</td>         <td>Pearson chi2:</td>   <td>1.13e+04</td>  \n",
       "</tr>\n",
       "<tr>\n",
       "     <td>Df Residuals:</td>          <td>11346</td>          <td>Scale:</td>        <td>1.0000</td>   \n",
       "</tr>\n",
       "<tr>\n",
       "        <td>Method:</td>             <td>IRLS</td>              <td></td>              <td></td>      \n",
       "</tr>\n",
       "</table>\n",
       "<table class=\"simpletable\">\n",
       "<tr>\n",
       "                 <td></td>                 <th>Coef.</th>  <th>Std.Err.</th>     <th>z</th>     <th>P>|z|</th> <th>[0.025</th>  <th>0.975]</th> \n",
       "</tr>\n",
       "<tr>\n",
       "  <th>Intercept</th>                      <td>-2.3497</td>  <td>0.0434</td>  <td>-54.1134</td> <td>0.0000</td> <td>-2.4348</td> <td>-2.2645</td>\n",
       "</tr>\n",
       "<tr>\n",
       "  <th>C(gender, Treatment(\"m\"))[T.f]</th> <td>0.0898</td>   <td>0.0662</td>   <td>1.3566</td>  <td>0.1749</td> <td>-0.0399</td> <td>0.2196</td> \n",
       "</tr>\n",
       "</table>"
      ],
      "text/plain": [
       "<class 'statsmodels.iolib.summary2.Summary'>\n",
       "\"\"\"\n",
       "                       Results: Generalized linear model\n",
       "===============================================================================\n",
       "Model:                   GLM                   AIC:                 6876.3353  \n",
       "Link Function:           logit                 BIC:                 -99062.9611\n",
       "Dependent Variable:      is_promoted           Log-Likelihood:      -3436.2    \n",
       "Date:                    2022-01-26 17:09      LL-Null:             -3437.1    \n",
       "No. Observations:        11348                 Deviance:            6872.3     \n",
       "Df Model:                1                     Pearson chi2:        1.13e+04   \n",
       "Df Residuals:            11346                 Scale:               1.0000     \n",
       "Method:                  IRLS                                                  \n",
       "-------------------------------------------------------------------------------\n",
       "                                Coef.  Std.Err.    z     P>|z|   [0.025  0.975]\n",
       "-------------------------------------------------------------------------------\n",
       "Intercept                      -2.3497   0.0434 -54.1134 0.0000 -2.4348 -2.2645\n",
       "C(gender, Treatment(\"m\"))[T.f]  0.0898   0.0662   1.3566 0.1749 -0.0399  0.2196\n",
       "===============================================================================\n",
       "\n",
       "\"\"\""
      ]
     },
     "execution_count": 33,
     "metadata": {},
     "output_type": "execute_result"
    }
   ],
   "source": [
    "ops_mod = smf.glm('is_promoted ~ C(gender,Treatment(\"m\"))', \n",
    "               family = sm.families.Binomial(), data = ops) \n",
    "ops_res = ops_mod.fit()\n",
    "ops_res.summary2()"
   ]
  },
  {
   "cell_type": "code",
   "execution_count": 34,
   "metadata": {},
   "outputs": [
    {
     "name": "stdout",
     "output_type": "stream",
     "text": [
      "llr: 1.83\n",
      "p-value:0.1761\n"
     ]
    }
   ],
   "source": [
    "# llr is difference in null model and saturated model\n",
    "llr_ops=round(ops_res.null_deviance-ops_res.deviance,2)\n",
    "print(f'llr: {llr_ops}')\n",
    "\n",
    "p_val_ops=round(1-stats.chi2.cdf(llr_ops,ops_res.df_model),4)\n",
    "print(f'p-value:{p_val_ops}')"
   ]
  },
  {
   "cell_type": "code",
   "execution_count": 35,
   "metadata": {},
   "outputs": [
    {
     "data": {
      "text/html": [
       "<table class=\"simpletable\">\n",
       "<tr>\n",
       "        <td>Model:</td>               <td>GLM</td>            <td>AIC:</td>        <td>6865.9631</td> \n",
       "</tr>\n",
       "<tr>\n",
       "    <td>Link Function:</td>          <td>logit</td>           <td>BIC:</td>       <td>-99058.6598</td>\n",
       "</tr>\n",
       "<tr>\n",
       "  <td>Dependent Variable:</td>    <td>is_promoted</td>   <td>Log-Likelihood:</td>   <td>-3429.0</td>  \n",
       "</tr>\n",
       "<tr>\n",
       "         <td>Date:</td>        <td>2022-01-26 17:09</td>    <td>LL-Null:</td>       <td>-3437.1</td>  \n",
       "</tr>\n",
       "<tr>\n",
       "   <td>No. Observations:</td>        <td>11348</td>         <td>Deviance:</td>      <td>6858.0</td>   \n",
       "</tr>\n",
       "<tr>\n",
       "       <td>Df Model:</td>              <td>3</td>         <td>Pearson chi2:</td>   <td>1.13e+04</td>  \n",
       "</tr>\n",
       "<tr>\n",
       "     <td>Df Residuals:</td>          <td>11344</td>          <td>Scale:</td>        <td>1.0000</td>   \n",
       "</tr>\n",
       "<tr>\n",
       "        <td>Method:</td>             <td>IRLS</td>              <td></td>              <td></td>      \n",
       "</tr>\n",
       "</table>\n",
       "<table class=\"simpletable\">\n",
       "<tr>\n",
       "           <td></td>           <th>Coef.</th>  <th>Std.Err.</th>    <th>z</th>     <th>P>|z|</th> <th>[0.025</th>  <th>0.975]</th> \n",
       "</tr>\n",
       "<tr>\n",
       "  <th>Intercept</th>          <td>-2.6210</td>  <td>0.3662</td>  <td>-7.1577</td> <td>0.0000</td> <td>-3.3387</td> <td>-1.9033</td>\n",
       "</tr>\n",
       "<tr>\n",
       "  <th>age_group[T.gen_x]</th> <td>0.2623</td>   <td>0.3738</td>  <td>0.7018</td>  <td>0.4828</td> <td>-0.4703</td> <td>0.9950</td> \n",
       "</tr>\n",
       "<tr>\n",
       "  <th>age_group[T.gen_z]</th> <td>-0.4990</td>  <td>0.4422</td>  <td>-1.1285</td> <td>0.2591</td> <td>-1.3656</td> <td>0.3676</td> \n",
       "</tr>\n",
       "<tr>\n",
       "  <th>age_group[T.mill]</th>  <td>0.3516</td>   <td>0.3681</td>  <td>0.9553</td>  <td>0.3395</td> <td>-0.3698</td> <td>1.0730</td> \n",
       "</tr>\n",
       "</table>"
      ],
      "text/plain": [
       "<class 'statsmodels.iolib.summary2.Summary'>\n",
       "\"\"\"\n",
       "                Results: Generalized linear model\n",
       "==================================================================\n",
       "Model:                GLM              AIC:            6865.9631  \n",
       "Link Function:        logit            BIC:            -99058.6598\n",
       "Dependent Variable:   is_promoted      Log-Likelihood: -3429.0    \n",
       "Date:                 2022-01-26 17:09 LL-Null:        -3437.1    \n",
       "No. Observations:     11348            Deviance:       6858.0     \n",
       "Df Model:             3                Pearson chi2:   1.13e+04   \n",
       "Df Residuals:         11344            Scale:          1.0000     \n",
       "Method:               IRLS                                        \n",
       "------------------------------------------------------------------\n",
       "                    Coef.  Std.Err.    z    P>|z|   [0.025  0.975]\n",
       "------------------------------------------------------------------\n",
       "Intercept          -2.6210   0.3662 -7.1577 0.0000 -3.3387 -1.9033\n",
       "age_group[T.gen_x]  0.2623   0.3738  0.7018 0.4828 -0.4703  0.9950\n",
       "age_group[T.gen_z] -0.4990   0.4422 -1.1285 0.2591 -1.3656  0.3676\n",
       "age_group[T.mill]   0.3516   0.3681  0.9553 0.3395 -0.3698  1.0730\n",
       "==================================================================\n",
       "\n",
       "\"\"\""
      ]
     },
     "execution_count": 35,
     "metadata": {},
     "output_type": "execute_result"
    }
   ],
   "source": [
    "ops_mod1 = smf.glm('is_promoted ~ age_group', \n",
    "               family = sm.families.Binomial(), data = ops) \n",
    "ops_res1 = ops_mod1.fit()\n",
    "ops_res1.summary2()"
   ]
  },
  {
   "cell_type": "code",
   "execution_count": 36,
   "metadata": {},
   "outputs": [
    {
     "name": "stdout",
     "output_type": "stream",
     "text": [
      "llr: 16.21\n",
      "p-value:0.001\n"
     ]
    }
   ],
   "source": [
    "# llr is difference in null model and saturated model\n",
    "llr_ops1=round(ops_res1.null_deviance-ops_res1.deviance,2)\n",
    "print(f'llr: {llr_ops1}')\n",
    "\n",
    "p_val_ops1=round(1-stats.chi2.cdf(llr_ops1,ops_res1.df_model),4)\n",
    "print(f'p-value:{p_val_ops1}')"
   ]
  },
  {
   "cell_type": "code",
   "execution_count": 37,
   "metadata": {},
   "outputs": [
    {
     "data": {
      "text/html": [
       "<table class=\"simpletable\">\n",
       "<tr>\n",
       "        <td>Model:</td>               <td>GLM</td>            <td>AIC:</td>        <td>6863.9015</td> \n",
       "</tr>\n",
       "<tr>\n",
       "    <td>Link Function:</td>          <td>logit</td>           <td>BIC:</td>       <td>-99068.0582</td>\n",
       "</tr>\n",
       "<tr>\n",
       "  <td>Dependent Variable:</td>    <td>is_promoted</td>   <td>Log-Likelihood:</td>   <td>-3429.0</td>  \n",
       "</tr>\n",
       "<tr>\n",
       "         <td>Date:</td>        <td>2022-01-26 17:09</td>    <td>LL-Null:</td>       <td>-3437.1</td>  \n",
       "</tr>\n",
       "<tr>\n",
       "   <td>No. Observations:</td>        <td>11348</td>         <td>Deviance:</td>      <td>6857.9</td>   \n",
       "</tr>\n",
       "<tr>\n",
       "       <td>Df Model:</td>              <td>2</td>         <td>Pearson chi2:</td>   <td>1.13e+04</td>  \n",
       "</tr>\n",
       "<tr>\n",
       "     <td>Df Residuals:</td>          <td>11345</td>          <td>Scale:</td>        <td>1.0000</td>   \n",
       "</tr>\n",
       "<tr>\n",
       "        <td>Method:</td>             <td>IRLS</td>              <td></td>              <td></td>      \n",
       "</tr>\n",
       "</table>\n",
       "<table class=\"simpletable\">\n",
       "<tr>\n",
       "           <td></td>            <th>Coef.</th>  <th>Std.Err.</th>     <th>z</th>     <th>P>|z|</th> <th>[0.025</th>  <th>0.975]</th> \n",
       "</tr>\n",
       "<tr>\n",
       "  <th>Intercept</th>           <td>-2.7279</td>  <td>0.1632</td>  <td>-16.7149</td> <td>0.0000</td> <td>-3.0477</td> <td>-2.4080</td>\n",
       "</tr>\n",
       "<tr>\n",
       "  <th>tenure_bands[T.2-4]</th> <td>0.2482</td>   <td>0.1797</td>   <td>1.3808</td>  <td>0.1673</td> <td>-0.1041</td> <td>0.6005</td> \n",
       "</tr>\n",
       "<tr>\n",
       "  <th>tenure_bands[T.4+]</th>  <td>0.4887</td>   <td>0.1674</td>   <td>2.9191</td>  <td>0.0035</td> <td>0.1606</td>  <td>0.8169</td> \n",
       "</tr>\n",
       "</table>"
      ],
      "text/plain": [
       "<class 'statsmodels.iolib.summary2.Summary'>\n",
       "\"\"\"\n",
       "                 Results: Generalized linear model\n",
       "====================================================================\n",
       "Model:                GLM               AIC:             6863.9015  \n",
       "Link Function:        logit             BIC:             -99068.0582\n",
       "Dependent Variable:   is_promoted       Log-Likelihood:  -3429.0    \n",
       "Date:                 2022-01-26 17:09  LL-Null:         -3437.1    \n",
       "No. Observations:     11348             Deviance:        6857.9     \n",
       "Df Model:             2                 Pearson chi2:    1.13e+04   \n",
       "Df Residuals:         11345             Scale:           1.0000     \n",
       "Method:               IRLS                                          \n",
       "--------------------------------------------------------------------\n",
       "                     Coef.  Std.Err.    z     P>|z|   [0.025  0.975]\n",
       "--------------------------------------------------------------------\n",
       "Intercept           -2.7279   0.1632 -16.7149 0.0000 -3.0477 -2.4080\n",
       "tenure_bands[T.2-4]  0.2482   0.1797   1.3808 0.1673 -0.1041  0.6005\n",
       "tenure_bands[T.4+]   0.4887   0.1674   2.9191 0.0035  0.1606  0.8169\n",
       "====================================================================\n",
       "\n",
       "\"\"\""
      ]
     },
     "execution_count": 37,
     "metadata": {},
     "output_type": "execute_result"
    }
   ],
   "source": [
    "ops_mod2 = smf.glm('is_promoted ~ tenure_bands', \n",
    "               family = sm.families.Binomial(), data = ops) \n",
    "ops_res2 = ops_mod2.fit()\n",
    "ops_res2.summary2()"
   ]
  },
  {
   "cell_type": "code",
   "execution_count": 38,
   "metadata": {},
   "outputs": [
    {
     "name": "stdout",
     "output_type": "stream",
     "text": [
      "llr: 16.27\n",
      "p-value:0.0003\n"
     ]
    }
   ],
   "source": [
    "# llr is difference in null model and saturated model\n",
    "llr_ops2=round(ops_res2.null_deviance-ops_res2.deviance,2)\n",
    "print(f'llr: {llr_ops2}')\n",
    "\n",
    "p_val_ops2=round(1-stats.chi2.cdf(llr_ops2,ops_res2.df_model),4)\n",
    "print(f'p-value:{p_val_ops2}')"
   ]
  },
  {
   "cell_type": "code",
   "execution_count": 39,
   "metadata": {},
   "outputs": [
    {
     "data": {
      "text/html": [
       "<table class=\"simpletable\">\n",
       "<tr>\n",
       "        <td>Model:</td>               <td>GLM</td>            <td>AIC:</td>        <td>6601.7006</td> \n",
       "</tr>\n",
       "<tr>\n",
       "    <td>Link Function:</td>          <td>logit</td>           <td>BIC:</td>       <td>-99337.5958</td>\n",
       "</tr>\n",
       "<tr>\n",
       "  <td>Dependent Variable:</td>    <td>is_promoted</td>   <td>Log-Likelihood:</td>   <td>-3298.9</td>  \n",
       "</tr>\n",
       "<tr>\n",
       "         <td>Date:</td>        <td>2022-01-26 17:09</td>    <td>LL-Null:</td>       <td>-3437.1</td>  \n",
       "</tr>\n",
       "<tr>\n",
       "   <td>No. Observations:</td>        <td>11348</td>         <td>Deviance:</td>      <td>6597.7</td>   \n",
       "</tr>\n",
       "<tr>\n",
       "       <td>Df Model:</td>              <td>1</td>         <td>Pearson chi2:</td>   <td>1.13e+04</td>  \n",
       "</tr>\n",
       "<tr>\n",
       "     <td>Df Residuals:</td>          <td>11346</td>          <td>Scale:</td>        <td>1.0000</td>   \n",
       "</tr>\n",
       "<tr>\n",
       "        <td>Method:</td>             <td>IRLS</td>              <td></td>              <td></td>      \n",
       "</tr>\n",
       "</table>\n",
       "<table class=\"simpletable\">\n",
       "<tr>\n",
       "       <td></td>       <th>Coef.</th>  <th>Std.Err.</th>     <th>z</th>     <th>P>|z|</th> <th>[0.025</th>  <th>0.975]</th> \n",
       "</tr>\n",
       "<tr>\n",
       "  <th>Intercept</th>  <td>-2.4288</td>  <td>0.0348</td>  <td>-69.7728</td> <td>0.0000</td> <td>-2.4970</td> <td>-2.3606</td>\n",
       "</tr>\n",
       "<tr>\n",
       "  <th>awards_won</th> <td>2.3371</td>   <td>0.1285</td>   <td>18.1885</td> <td>0.0000</td> <td>2.0853</td>  <td>2.5890</td> \n",
       "</tr>\n",
       "</table>"
      ],
      "text/plain": [
       "<class 'statsmodels.iolib.summary2.Summary'>\n",
       "\"\"\"\n",
       "               Results: Generalized linear model\n",
       "================================================================\n",
       "Model:              GLM              AIC:            6601.7006  \n",
       "Link Function:      logit            BIC:            -99337.5958\n",
       "Dependent Variable: is_promoted      Log-Likelihood: -3298.9    \n",
       "Date:               2022-01-26 17:09 LL-Null:        -3437.1    \n",
       "No. Observations:   11348            Deviance:       6597.7     \n",
       "Df Model:           1                Pearson chi2:   1.13e+04   \n",
       "Df Residuals:       11346            Scale:          1.0000     \n",
       "Method:             IRLS                                        \n",
       "-----------------------------------------------------------------\n",
       "             Coef.   Std.Err.     z      P>|z|    [0.025   0.975]\n",
       "-----------------------------------------------------------------\n",
       "Intercept   -2.4288    0.0348  -69.7728  0.0000  -2.4970  -2.3606\n",
       "awards_won   2.3371    0.1285   18.1885  0.0000   2.0853   2.5890\n",
       "================================================================\n",
       "\n",
       "\"\"\""
      ]
     },
     "execution_count": 39,
     "metadata": {},
     "output_type": "execute_result"
    }
   ],
   "source": [
    "ops_mod3 = smf.glm('is_promoted ~ awards_won', \n",
    "               family = sm.families.Binomial(), data = ops) \n",
    "ops_res3 = ops_mod3.fit()\n",
    "ops_res3.summary2()"
   ]
  },
  {
   "cell_type": "code",
   "execution_count": 40,
   "metadata": {},
   "outputs": [
    {
     "name": "stdout",
     "output_type": "stream",
     "text": [
      "llr: 276.47\n",
      "p-value:0.0\n"
     ]
    }
   ],
   "source": [
    "# llr is difference in null model and saturated model\n",
    "llr_ops3=round(ops_res3.null_deviance-ops_res3.deviance,2)\n",
    "print(f'llr: {llr_ops3}')\n",
    "\n",
    "p_val_ops3=round(1-stats.chi2.cdf(llr_ops3,ops_res3.df_model),4)\n",
    "print(f'p-value:{p_val_ops3}')"
   ]
  },
  {
   "cell_type": "code",
   "execution_count": 41,
   "metadata": {},
   "outputs": [
    {
     "data": {
      "text/html": [
       "<table class=\"simpletable\">\n",
       "<tr>\n",
       "        <td>Model:</td>               <td>GLM</td>            <td>AIC:</td>        <td>6835.5290</td> \n",
       "</tr>\n",
       "<tr>\n",
       "    <td>Link Function:</td>          <td>logit</td>           <td>BIC:</td>       <td>-99103.7674</td>\n",
       "</tr>\n",
       "<tr>\n",
       "  <td>Dependent Variable:</td>    <td>is_promoted</td>   <td>Log-Likelihood:</td>   <td>-3415.8</td>  \n",
       "</tr>\n",
       "<tr>\n",
       "         <td>Date:</td>        <td>2022-01-26 17:09</td>    <td>LL-Null:</td>       <td>-3437.1</td>  \n",
       "</tr>\n",
       "<tr>\n",
       "   <td>No. Observations:</td>        <td>11348</td>         <td>Deviance:</td>      <td>6831.5</td>   \n",
       "</tr>\n",
       "<tr>\n",
       "       <td>Df Model:</td>              <td>1</td>         <td>Pearson chi2:</td>   <td>1.13e+04</td>  \n",
       "</tr>\n",
       "<tr>\n",
       "     <td>Df Residuals:</td>          <td>11346</td>          <td>Scale:</td>        <td>1.0000</td>   \n",
       "</tr>\n",
       "<tr>\n",
       "        <td>Method:</td>             <td>IRLS</td>              <td></td>              <td></td>      \n",
       "</tr>\n",
       "</table>\n",
       "<table class=\"simpletable\">\n",
       "<tr>\n",
       "         <td></td>         <th>Coef.</th>  <th>Std.Err.</th>     <th>z</th>     <th>P>|z|</th> <th>[0.025</th>  <th>0.975]</th> \n",
       "</tr>\n",
       "<tr>\n",
       "  <th>Intercept</th>      <td>-2.5469</td>  <td>0.0512</td>  <td>-49.7828</td> <td>0.0000</td> <td>-2.6471</td> <td>-2.4466</td>\n",
       "</tr>\n",
       "<tr>\n",
       "  <th>high_performer</th> <td>0.4319</td>   <td>0.0667</td>   <td>6.4727</td>  <td>0.0000</td> <td>0.3011</td>  <td>0.5626</td> \n",
       "</tr>\n",
       "</table>"
      ],
      "text/plain": [
       "<class 'statsmodels.iolib.summary2.Summary'>\n",
       "\"\"\"\n",
       "               Results: Generalized linear model\n",
       "================================================================\n",
       "Model:              GLM              AIC:            6835.5290  \n",
       "Link Function:      logit            BIC:            -99103.7674\n",
       "Dependent Variable: is_promoted      Log-Likelihood: -3415.8    \n",
       "Date:               2022-01-26 17:09 LL-Null:        -3437.1    \n",
       "No. Observations:   11348            Deviance:       6831.5     \n",
       "Df Model:           1                Pearson chi2:   1.13e+04   \n",
       "Df Residuals:       11346            Scale:          1.0000     \n",
       "Method:             IRLS                                        \n",
       "----------------------------------------------------------------\n",
       "                 Coef.  Std.Err.    z     P>|z|   [0.025  0.975]\n",
       "----------------------------------------------------------------\n",
       "Intercept       -2.5469   0.0512 -49.7828 0.0000 -2.6471 -2.4466\n",
       "high_performer   0.4319   0.0667   6.4727 0.0000  0.3011  0.5626\n",
       "================================================================\n",
       "\n",
       "\"\"\""
      ]
     },
     "execution_count": 41,
     "metadata": {},
     "output_type": "execute_result"
    }
   ],
   "source": [
    "ops_mod4 = smf.glm('is_promoted ~ high_performer', \n",
    "               family = sm.families.Binomial(), data = ops) \n",
    "ops_res4 = ops_mod4.fit()\n",
    "ops_res4.summary2()"
   ]
  },
  {
   "cell_type": "code",
   "execution_count": 42,
   "metadata": {},
   "outputs": [
    {
     "name": "stdout",
     "output_type": "stream",
     "text": [
      "llr: 42.64\n",
      "p-value:0.0\n"
     ]
    }
   ],
   "source": [
    "# llr is difference in null model and saturated model\n",
    "llr_ops4=round(ops_res4.null_deviance-ops_res4.deviance,2)\n",
    "print(f'llr: {llr_ops4}')\n",
    "\n",
    "p_val_ops4=round(1-stats.chi2.cdf(llr_ops4,ops_res4.df_model),4)\n",
    "print(f'p-value:{p_val_ops4}')"
   ]
  },
  {
   "cell_type": "code",
   "execution_count": 43,
   "metadata": {},
   "outputs": [
    {
     "data": {
      "text/html": [
       "<table class=\"simpletable\">\n",
       "<tr>\n",
       "        <td>Model:</td>               <td>GLM</td>            <td>AIC:</td>        <td>6838.5506</td> \n",
       "</tr>\n",
       "<tr>\n",
       "    <td>Link Function:</td>          <td>logit</td>           <td>BIC:</td>       <td>-99086.0723</td>\n",
       "</tr>\n",
       "<tr>\n",
       "  <td>Dependent Variable:</td>    <td>is_promoted</td>   <td>Log-Likelihood:</td>   <td>-3415.3</td>  \n",
       "</tr>\n",
       "<tr>\n",
       "         <td>Date:</td>        <td>2022-01-26 17:09</td>    <td>LL-Null:</td>       <td>-3437.1</td>  \n",
       "</tr>\n",
       "<tr>\n",
       "   <td>No. Observations:</td>        <td>11348</td>         <td>Deviance:</td>      <td>6830.6</td>   \n",
       "</tr>\n",
       "<tr>\n",
       "       <td>Df Model:</td>              <td>3</td>         <td>Pearson chi2:</td>   <td>1.13e+04</td>  \n",
       "</tr>\n",
       "<tr>\n",
       "     <td>Df Residuals:</td>          <td>11344</td>          <td>Scale:</td>        <td>1.0000</td>   \n",
       "</tr>\n",
       "<tr>\n",
       "        <td>Method:</td>             <td>IRLS</td>              <td></td>              <td></td>      \n",
       "</tr>\n",
       "</table>\n",
       "<table class=\"simpletable\">\n",
       "<tr>\n",
       "              <td></td>              <th>Coef.</th>  <th>Std.Err.</th>     <th>z</th>     <th>P>|z|</th> <th>[0.025</th>  <th>0.975]</th> \n",
       "</tr>\n",
       "<tr>\n",
       "  <th>Intercept</th>                <td>-2.4450</td>  <td>0.0451</td>  <td>-54.2501</td> <td>0.0000</td> <td>-2.5334</td> <td>-2.3567</td>\n",
       "</tr>\n",
       "<tr>\n",
       "  <th>region_grps[T.region_15]</th> <td>0.3313</td>   <td>0.1132</td>   <td>2.9276</td>  <td>0.0034</td> <td>0.1095</td>  <td>0.5531</td> \n",
       "</tr>\n",
       "<tr>\n",
       "  <th>region_grps[T.region_2]</th>  <td>0.0548</td>   <td>0.0902</td>   <td>0.6075</td>  <td>0.5435</td> <td>-0.1219</td> <td>0.2315</td> \n",
       "</tr>\n",
       "<tr>\n",
       "  <th>region_grps[T.region_22]</th> <td>0.5669</td>   <td>0.0875</td>   <td>6.4790</td>  <td>0.0000</td> <td>0.3954</td>  <td>0.7383</td> \n",
       "</tr>\n",
       "</table>"
      ],
      "text/plain": [
       "<class 'statsmodels.iolib.summary2.Summary'>\n",
       "\"\"\"\n",
       "                    Results: Generalized linear model\n",
       "=========================================================================\n",
       "Model:                 GLM                 AIC:               6838.5506  \n",
       "Link Function:         logit               BIC:               -99086.0723\n",
       "Dependent Variable:    is_promoted         Log-Likelihood:    -3415.3    \n",
       "Date:                  2022-01-26 17:09    LL-Null:           -3437.1    \n",
       "No. Observations:      11348               Deviance:          6830.6     \n",
       "Df Model:              3                   Pearson chi2:      1.13e+04   \n",
       "Df Residuals:          11344               Scale:             1.0000     \n",
       "Method:                IRLS                                              \n",
       "-------------------------------------------------------------------------\n",
       "                          Coef.  Std.Err.    z     P>|z|   [0.025  0.975]\n",
       "-------------------------------------------------------------------------\n",
       "Intercept                -2.4450   0.0451 -54.2501 0.0000 -2.5334 -2.3567\n",
       "region_grps[T.region_15]  0.3313   0.1132   2.9276 0.0034  0.1095  0.5531\n",
       "region_grps[T.region_2]   0.0548   0.0902   0.6075 0.5435 -0.1219  0.2315\n",
       "region_grps[T.region_22]  0.5669   0.0875   6.4790 0.0000  0.3954  0.7383\n",
       "=========================================================================\n",
       "\n",
       "\"\"\""
      ]
     },
     "execution_count": 43,
     "metadata": {},
     "output_type": "execute_result"
    }
   ],
   "source": [
    "ops_mod5 = smf.glm('is_promoted ~ region_grps', \n",
    "               family = sm.families.Binomial(), data = ops) \n",
    "ops_res5 = ops_mod5.fit()\n",
    "ops_res5.summary2()"
   ]
  },
  {
   "cell_type": "code",
   "execution_count": 44,
   "metadata": {},
   "outputs": [
    {
     "name": "stdout",
     "output_type": "stream",
     "text": [
      "llr: 43.62\n",
      "p-value:0.0\n"
     ]
    }
   ],
   "source": [
    "# llr is difference in null model and saturated model\n",
    "llr_ops5=round(ops_res5.null_deviance-ops_res5.deviance,2)\n",
    "print(f'llr: {llr_ops5}')\n",
    "\n",
    "p_val_ops5=round(1-stats.chi2.cdf(llr_ops5,ops_res5.df_model),4)\n",
    "print(f'p-value:{p_val_ops5}')"
   ]
  },
  {
   "cell_type": "code",
   "execution_count": 45,
   "metadata": {},
   "outputs": [
    {
     "name": "stdout",
     "output_type": "stream",
     "text": [
      "p-value of the chi-square test of awards_won and high_performer is 0.536\n",
      "p-value of the chi-square test of age_group and tenure is 0.0\n",
      "p-value of the chi-square test of awards and tenure is 0.605\n",
      "p-value of the chi-square test of high performer and tenure is 0.0\n",
      "p-value of the chi-square test of high performer and region is 0.004\n",
      "p-value of the chi-square test of high performer and age group is 0.0\n"
     ]
    }
   ],
   "source": [
    "## Check for correlation between categorical variables\n",
    "awards_performer = round(sm.stats.Table.from_data(ops[['awards_won','high_performer']]).test_nominal_association().pvalue, 3)\n",
    "print(f'p-value of the chi-square test of awards_won and high_performer is {awards_performer}')\n",
    "\n",
    "age_tenure = round(sm.stats.Table.from_data(ops[['age_group','tenure_bands']]).test_nominal_association().pvalue, 3)\n",
    "print(f'p-value of the chi-square test of age_group and tenure is {age_tenure}')\n",
    "\n",
    "awards_tenure = round(sm.stats.Table.from_data(ops[['awards_won','tenure_bands']]).test_nominal_association().pvalue, 3)\n",
    "print(f'p-value of the chi-square test of awards and tenure is {awards_tenure}')\n",
    "\n",
    "high_perf_tenure = round(sm.stats.Table.from_data(ops[['high_performer','tenure_bands']]).test_nominal_association().pvalue, 3)\n",
    "print(f'p-value of the chi-square test of high performer and tenure is {high_perf_tenure}')\n",
    "\n",
    "high_perf_region = round(sm.stats.Table.from_data(ops[['high_performer','region_grps']]).test_nominal_association().pvalue, 3)\n",
    "print(f'p-value of the chi-square test of high performer and region is {high_perf_region}')\n",
    "\n",
    "high_perf_age = round(sm.stats.Table.from_data(ops[['high_performer','age_group']]).test_nominal_association().pvalue, 3)\n",
    "print(f'p-value of the chi-square test of high performer and age group is {high_perf_age}')\n"
   ]
  },
  {
   "cell_type": "code",
   "execution_count": 46,
   "metadata": {},
   "outputs": [
    {
     "data": {
      "text/html": [
       "<table class=\"simpletable\">\n",
       "<tr>\n",
       "        <td>Model:</td>               <td>GLM</td>            <td>AIC:</td>        <td>6560.8734</td> \n",
       "</tr>\n",
       "<tr>\n",
       "    <td>Link Function:</td>          <td>logit</td>           <td>BIC:</td>       <td>-99371.0862</td>\n",
       "</tr>\n",
       "<tr>\n",
       "  <td>Dependent Variable:</td>    <td>is_promoted</td>   <td>Log-Likelihood:</td>   <td>-3277.4</td>  \n",
       "</tr>\n",
       "<tr>\n",
       "         <td>Date:</td>        <td>2022-01-26 17:09</td>    <td>LL-Null:</td>       <td>-3437.1</td>  \n",
       "</tr>\n",
       "<tr>\n",
       "   <td>No. Observations:</td>        <td>11348</td>         <td>Deviance:</td>      <td>6554.9</td>   \n",
       "</tr>\n",
       "<tr>\n",
       "       <td>Df Model:</td>              <td>2</td>         <td>Pearson chi2:</td>   <td>1.14e+04</td>  \n",
       "</tr>\n",
       "<tr>\n",
       "     <td>Df Residuals:</td>          <td>11345</td>          <td>Scale:</td>        <td>1.0000</td>   \n",
       "</tr>\n",
       "<tr>\n",
       "        <td>Method:</td>             <td>IRLS</td>              <td></td>              <td></td>      \n",
       "</tr>\n",
       "</table>\n",
       "<table class=\"simpletable\">\n",
       "<tr>\n",
       "         <td></td>         <th>Coef.</th>  <th>Std.Err.</th>     <th>z</th>     <th>P>|z|</th> <th>[0.025</th>  <th>0.975]</th> \n",
       "</tr>\n",
       "<tr>\n",
       "  <th>Intercept</th>      <td>-2.6704</td>  <td>0.0533</td>  <td>-50.0588</td> <td>0.0000</td> <td>-2.7749</td> <td>-2.5658</td>\n",
       "</tr>\n",
       "<tr>\n",
       "  <th>awards_won</th>     <td>2.3478</td>   <td>0.1293</td>   <td>18.1551</td> <td>0.0000</td> <td>2.0943</td>  <td>2.6013</td> \n",
       "</tr>\n",
       "<tr>\n",
       "  <th>high_performer</th> <td>0.4425</td>   <td>0.0682</td>   <td>6.4856</td>  <td>0.0000</td> <td>0.3088</td>  <td>0.5763</td> \n",
       "</tr>\n",
       "</table>"
      ],
      "text/plain": [
       "<class 'statsmodels.iolib.summary2.Summary'>\n",
       "\"\"\"\n",
       "               Results: Generalized linear model\n",
       "================================================================\n",
       "Model:              GLM              AIC:            6560.8734  \n",
       "Link Function:      logit            BIC:            -99371.0862\n",
       "Dependent Variable: is_promoted      Log-Likelihood: -3277.4    \n",
       "Date:               2022-01-26 17:09 LL-Null:        -3437.1    \n",
       "No. Observations:   11348            Deviance:       6554.9     \n",
       "Df Model:           2                Pearson chi2:   1.14e+04   \n",
       "Df Residuals:       11345            Scale:          1.0000     \n",
       "Method:             IRLS                                        \n",
       "----------------------------------------------------------------\n",
       "                 Coef.  Std.Err.    z     P>|z|   [0.025  0.975]\n",
       "----------------------------------------------------------------\n",
       "Intercept       -2.6704   0.0533 -50.0588 0.0000 -2.7749 -2.5658\n",
       "awards_won       2.3478   0.1293  18.1551 0.0000  2.0943  2.6013\n",
       "high_performer   0.4425   0.0682   6.4856 0.0000  0.3088  0.5763\n",
       "================================================================\n",
       "\n",
       "\"\"\""
      ]
     },
     "execution_count": 46,
     "metadata": {},
     "output_type": "execute_result"
    }
   ],
   "source": [
    "# Step 1 - Create a main effects model \n",
    "ops_mod6 = smf.glm('is_promoted ~ awards_won + high_performer', \n",
    "               family = sm.families.Binomial(), data = ops) \n",
    "ops_res6 = ops_mod6.fit()\n",
    "ops_res6.summary2()"
   ]
  },
  {
   "cell_type": "code",
   "execution_count": 47,
   "metadata": {},
   "outputs": [],
   "source": [
    "ops_awards_hipo = ops.groupby(['awards_won','high_performer', \n",
    "                               'is_promoted'])['employee_id'].count().unstack('is_promoted').reset_index()\n",
    "ops_awards_hipo.rename(columns = {1:'yes', 0:'no'}, inplace = True)\n",
    "\n",
    "ops_awards_hipo.fillna(0,inplace=True)"
   ]
  },
  {
   "cell_type": "code",
   "execution_count": 48,
   "metadata": {},
   "outputs": [
    {
     "data": {
      "text/html": [
       "<table class=\"simpletable\">\n",
       "<caption>Generalized Linear Model Regression Results</caption>\n",
       "<tr>\n",
       "  <th>Dep. Variable:</th>     <td>['yes', 'no']</td>  <th>  No. Observations:  </th>  <td>     4</td> \n",
       "</tr>\n",
       "<tr>\n",
       "  <th>Model:</th>                  <td>GLM</td>       <th>  Df Residuals:      </th>  <td>     1</td> \n",
       "</tr>\n",
       "<tr>\n",
       "  <th>Model Family:</th>        <td>Binomial</td>     <th>  Df Model:          </th>  <td>     2</td> \n",
       "</tr>\n",
       "<tr>\n",
       "  <th>Link Function:</th>         <td>logit</td>      <th>  Scale:             </th> <td>  1.0000</td>\n",
       "</tr>\n",
       "<tr>\n",
       "  <th>Method:</th>                <td>IRLS</td>       <th>  Log-Likelihood:    </th> <td> -13.660</td>\n",
       "</tr>\n",
       "<tr>\n",
       "  <th>Date:</th>            <td>Wed, 26 Jan 2022</td> <th>  Deviance:          </th> <td>  1.0398</td>\n",
       "</tr>\n",
       "<tr>\n",
       "  <th>Time:</th>                <td>17:09:32</td>     <th>  Pearson chi2:      </th>  <td>  1.03</td> \n",
       "</tr>\n",
       "<tr>\n",
       "  <th>No. Iterations:</th>          <td>6</td>        <th>  Pseudo R-squ. (CS):</th>  <td> 1.000</td> \n",
       "</tr>\n",
       "<tr>\n",
       "  <th>Covariance Type:</th>     <td>nonrobust</td>    <th>                     </th>     <td> </td>   \n",
       "</tr>\n",
       "</table>\n",
       "<table class=\"simpletable\">\n",
       "<tr>\n",
       "         <td></td>           <th>coef</th>     <th>std err</th>      <th>z</th>      <th>P>|z|</th>  <th>[0.025</th>    <th>0.975]</th>  \n",
       "</tr>\n",
       "<tr>\n",
       "  <th>Intercept</th>      <td>   -2.6704</td> <td>    0.053</td> <td>  -50.059</td> <td> 0.000</td> <td>   -2.775</td> <td>   -2.566</td>\n",
       "</tr>\n",
       "<tr>\n",
       "  <th>awards_won</th>     <td>    2.3478</td> <td>    0.129</td> <td>   18.155</td> <td> 0.000</td> <td>    2.094</td> <td>    2.601</td>\n",
       "</tr>\n",
       "<tr>\n",
       "  <th>high_performer</th> <td>    0.4425</td> <td>    0.068</td> <td>    6.486</td> <td> 0.000</td> <td>    0.309</td> <td>    0.576</td>\n",
       "</tr>\n",
       "</table>"
      ],
      "text/plain": [
       "<class 'statsmodels.iolib.summary.Summary'>\n",
       "\"\"\"\n",
       "                 Generalized Linear Model Regression Results                  \n",
       "==============================================================================\n",
       "Dep. Variable:          ['yes', 'no']   No. Observations:                    4\n",
       "Model:                            GLM   Df Residuals:                        1\n",
       "Model Family:                Binomial   Df Model:                            2\n",
       "Link Function:                  logit   Scale:                          1.0000\n",
       "Method:                          IRLS   Log-Likelihood:                -13.660\n",
       "Date:                Wed, 26 Jan 2022   Deviance:                       1.0398\n",
       "Time:                        17:09:32   Pearson chi2:                     1.03\n",
       "No. Iterations:                     6   Pseudo R-squ. (CS):              1.000\n",
       "Covariance Type:            nonrobust                                         \n",
       "==================================================================================\n",
       "                     coef    std err          z      P>|z|      [0.025      0.975]\n",
       "----------------------------------------------------------------------------------\n",
       "Intercept         -2.6704      0.053    -50.059      0.000      -2.775      -2.566\n",
       "awards_won         2.3478      0.129     18.155      0.000       2.094       2.601\n",
       "high_performer     0.4425      0.068      6.486      0.000       0.309       0.576\n",
       "==================================================================================\n",
       "\"\"\""
      ]
     },
     "execution_count": 48,
     "metadata": {},
     "output_type": "execute_result"
    }
   ],
   "source": [
    "ops_mod_grouped = smf.glm('yes + no ~ awards_won + high_performer', \n",
    "               family=sm.families.Binomial(), data = ops_awards_hipo)\n",
    "ops_res_grouped = ops_mod_grouped.fit()\n",
    "ops_res_grouped.summary()"
   ]
  },
  {
   "cell_type": "code",
   "execution_count": 49,
   "metadata": {},
   "outputs": [
    {
     "data": {
      "text/html": [
       "<div>\n",
       "<style scoped>\n",
       "    .dataframe tbody tr th:only-of-type {\n",
       "        vertical-align: middle;\n",
       "    }\n",
       "\n",
       "    .dataframe tbody tr th {\n",
       "        vertical-align: top;\n",
       "    }\n",
       "\n",
       "    .dataframe thead th {\n",
       "        text-align: right;\n",
       "    }\n",
       "</style>\n",
       "<table border=\"1\" class=\"dataframe\">\n",
       "  <thead>\n",
       "    <tr style=\"text-align: right;\">\n",
       "      <th></th>\n",
       "      <th>dfb_Intercept</th>\n",
       "      <th>dfb_awards_won</th>\n",
       "      <th>dfb_high_performer</th>\n",
       "      <th>cooks_d</th>\n",
       "      <th>standard_resid</th>\n",
       "      <th>hat_diag</th>\n",
       "      <th>dffits_internal</th>\n",
       "    </tr>\n",
       "  </thead>\n",
       "  <tbody>\n",
       "    <tr>\n",
       "      <th>0</th>\n",
       "      <td>4.72153</td>\n",
       "      <td>-0.95856</td>\n",
       "      <td>-3.57298</td>\n",
       "      <td>7.43095</td>\n",
       "      <td>1.01723</td>\n",
       "      <td>0.95564</td>\n",
       "      <td>4.72153</td>\n",
       "    </tr>\n",
       "    <tr>\n",
       "      <th>1</th>\n",
       "      <td>-0.21916</td>\n",
       "      <td>1.07950</td>\n",
       "      <td>-3.57298</td>\n",
       "      <td>10.91973</td>\n",
       "      <td>-1.01723</td>\n",
       "      <td>0.96938</td>\n",
       "      <td>-5.72356</td>\n",
       "    </tr>\n",
       "    <tr>\n",
       "      <th>2</th>\n",
       "      <td>-0.21916</td>\n",
       "      <td>-0.95856</td>\n",
       "      <td>0.28961</td>\n",
       "      <td>0.36580</td>\n",
       "      <td>-1.01723</td>\n",
       "      <td>0.51469</td>\n",
       "      <td>-1.04756</td>\n",
       "    </tr>\n",
       "    <tr>\n",
       "      <th>3</th>\n",
       "      <td>-0.21916</td>\n",
       "      <td>1.07950</td>\n",
       "      <td>0.28961</td>\n",
       "      <td>0.43951</td>\n",
       "      <td>1.01723</td>\n",
       "      <td>0.56029</td>\n",
       "      <td>1.14827</td>\n",
       "    </tr>\n",
       "  </tbody>\n",
       "</table>\n",
       "</div>"
      ],
      "text/plain": [
       "   dfb_Intercept  dfb_awards_won  dfb_high_performer  cooks_d  standard_resid  \\\n",
       "0        4.72153        -0.95856            -3.57298  7.43095         1.01723   \n",
       "1       -0.21916         1.07950            -3.57298 10.91973        -1.01723   \n",
       "2       -0.21916        -0.95856             0.28961  0.36580        -1.01723   \n",
       "3       -0.21916         1.07950             0.28961  0.43951         1.01723   \n",
       "\n",
       "   hat_diag  dffits_internal  \n",
       "0   0.95564          4.72153  \n",
       "1   0.96938         -5.72356  \n",
       "2   0.51469         -1.04756  \n",
       "3   0.56029          1.14827  "
      ]
     },
     "execution_count": 49,
     "metadata": {},
     "output_type": "execute_result"
    }
   ],
   "source": [
    "inf = ops_res_grouped.get_influence()\n",
    "inf.summary_frame()"
   ]
  },
  {
   "cell_type": "code",
   "execution_count": 50,
   "metadata": {},
   "outputs": [],
   "source": [
    "# can add the fitted values from the model to our dataframe and observe that all of the expected values are at least 5\n",
    "ops_awards_hipo['fitted_yes'] = ops_res_grouped.fittedvalues * (ops_awards_hipo.yes + ops_awards_hipo.no)\n",
    "ops_awards_hipo['fitted_no'] = (1 - ops_res_grouped.fittedvalues) * (ops_awards_hipo.yes + ops_awards_hipo.no)\n"
   ]
  },
  {
   "cell_type": "code",
   "execution_count": 51,
   "metadata": {},
   "outputs": [
    {
     "data": {
      "text/plain": [
       "4+     8225\n",
       "2-4    2471\n",
       "0-2     652\n",
       "Name: tenure_bands, dtype: int64"
      ]
     },
     "execution_count": 51,
     "metadata": {},
     "output_type": "execute_result"
    }
   ],
   "source": [
    "ops.tenure_bands.value_counts()"
   ]
  },
  {
   "cell_type": "code",
   "execution_count": 52,
   "metadata": {},
   "outputs": [
    {
     "data": {
      "image/png": "[encoded data removed]",
      "text/plain": [
       "<Figure size 432x288 with 1 Axes>"
      ]
     },
     "metadata": {
      "needs_background": "light"
     },
     "output_type": "display_data"
    }
   ],
   "source": [
    "# plot results \n",
    "pct_promoted = ops_res_grouped.fittedvalues.sort_values()[:3]\n",
    "labels = ['No Award / \\nLow-Mid Performer', 'High Performer', 'Award Winner']\n",
    "plots.plot_fitted_values(labels, pct_promoted)"
   ]
  }
 ],
 "metadata": {
  "kernelspec": {
   "display_name": "Python 3 (ipykernel)",
   "language": "python",
   "name": "python3"
  },
  "language_info": {
   "codemirror_mode": {
    "name": "ipython",
    "version": 3
   },
   "file_extension": ".py",
   "mimetype": "text/x-python",
   "name": "python",
   "nbconvert_exporter": "python",
   "pygments_lexer": "ipython3",
   "version": "3.8.5"
  }
 },
 "nbformat": 4,
 "nbformat_minor": 4
}
